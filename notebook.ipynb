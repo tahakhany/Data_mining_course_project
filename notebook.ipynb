{
 "cells": [
  {
   "cell_type": "markdown",
   "source": [
    "# Step 1"
   ],
   "metadata": {
    "collapsed": false
   },
   "id": "39531f3444bb3fc8"
  },
  {
   "cell_type": "markdown",
   "source": [
    "### Reading CSV File into Pandas DataFrame\n",
    "\n",
    "This code cell reads a CSV file named `dataset.csv` located in the root directory of the project using the Pandas library. It then stores the data in a DataFrame named `df` for further analysis and manipulation.\n"
   ],
   "metadata": {
    "collapsed": false
   },
   "id": "5ba4cf4824299dc7"
  },
  {
   "cell_type": "code",
   "execution_count": 1,
   "id": "initial_id",
   "metadata": {
    "collapsed": true,
    "ExecuteTime": {
     "end_time": "2024-02-02T20:07:43.511849300Z",
     "start_time": "2024-02-02T20:07:37.010047900Z"
    }
   },
   "outputs": [],
   "source": [
    "import pandas as pd\n",
    "\n",
    "# Specify the file path to your CSV file\n",
    "file_path = \"dataset.csv\"\n",
    "\n",
    "# Read the CSV file into a Pandas DataFrame\n",
    "df = pd.read_csv(file_path)\n",
    "\n",
    "del df['Index']\n",
    "# Now you can work with your DataFrame 'df'"
   ]
  },
  {
   "cell_type": "code",
   "outputs": [
    {
     "data": {
      "text/plain": "        FEATURE1  FEATURE2  FEATURE3  FEATURE4  FEATURE5  FEATURE6  FEATURE7  \\\n0            718         0         2         2         2         1        17   \n1            218         0         2         2         2         1        15   \n2              4         0         1         1         1         1         3   \n3              5         0         2         2         2         1         4   \n4             19         0         1         1         1         1         9   \n...          ...       ...       ...       ...       ...       ...       ...   \n298169       100         0         1         1         1         1         8   \n298170        16         0         2         2         2         1        15   \n298171       111         1         1         1         1         1         6   \n298172        98         0         1         1         1         1         4   \n298173        22         0         1         1         1         1        21   \n\n        FEATURE8  FEATURE9  FEATURE10  ...  FEATURE73  FEATURE74  FEATURE75  \\\n0              0        12          3  ...         62        118          9   \n1              0         7          6  ...         41         41          1   \n2              0         3          0  ...          0          2          0   \n3              0         4          0  ...        245        279          0   \n4              0         4          5  ...          2          2          0   \n...          ...       ...        ...  ...        ...        ...        ...   \n298169         0         4          3  ...         13         14          0   \n298170         3        12          0  ...          3          3          0   \n298171         0         4          1  ...         29         25          0   \n298172         0         3          0  ...         39         29          0   \n298173         0        21          0  ...          4         10          0   \n\n        FEATURE76  FEATURE77  FEATURE78  FEATURE79  FEATURE80  FEATURE81  \\\n0               0         77          1   7.121212   1.909091         25   \n1               1         23          0   4.545455   1.090909          2   \n2               0          1          0   2.000000   1.000000          2   \n3               0          0          0   0.000000   0.000000          0   \n4               0          1          1   1.000000   1.000000          1   \n...           ...        ...        ...        ...        ...        ...   \n298169          0         10          1   1.444444   1.000000          2   \n298170          0          2          0   6.000000   1.000000          3   \n298171          0         13          2   1.692308   1.000000          1   \n298172          0         15          1   1.866667   1.000000          5   \n298173          0          1          0  20.000000   1.000000          5   \n\n        Class Label  \n0                 0  \n1                 0  \n2                 0  \n3                 0  \n4                 0  \n...             ...  \n298169            0  \n298170            0  \n298171            0  \n298172            0  \n298173            0  \n\n[298174 rows x 82 columns]",
      "text/html": "<div>\n<style scoped>\n    .dataframe tbody tr th:only-of-type {\n        vertical-align: middle;\n    }\n\n    .dataframe tbody tr th {\n        vertical-align: top;\n    }\n\n    .dataframe thead th {\n        text-align: right;\n    }\n</style>\n<table border=\"1\" class=\"dataframe\">\n  <thead>\n    <tr style=\"text-align: right;\">\n      <th></th>\n      <th>FEATURE1</th>\n      <th>FEATURE2</th>\n      <th>FEATURE3</th>\n      <th>FEATURE4</th>\n      <th>FEATURE5</th>\n      <th>FEATURE6</th>\n      <th>FEATURE7</th>\n      <th>FEATURE8</th>\n      <th>FEATURE9</th>\n      <th>FEATURE10</th>\n      <th>...</th>\n      <th>FEATURE73</th>\n      <th>FEATURE74</th>\n      <th>FEATURE75</th>\n      <th>FEATURE76</th>\n      <th>FEATURE77</th>\n      <th>FEATURE78</th>\n      <th>FEATURE79</th>\n      <th>FEATURE80</th>\n      <th>FEATURE81</th>\n      <th>Class Label</th>\n    </tr>\n  </thead>\n  <tbody>\n    <tr>\n      <th>0</th>\n      <td>718</td>\n      <td>0</td>\n      <td>2</td>\n      <td>2</td>\n      <td>2</td>\n      <td>1</td>\n      <td>17</td>\n      <td>0</td>\n      <td>12</td>\n      <td>3</td>\n      <td>...</td>\n      <td>62</td>\n      <td>118</td>\n      <td>9</td>\n      <td>0</td>\n      <td>77</td>\n      <td>1</td>\n      <td>7.121212</td>\n      <td>1.909091</td>\n      <td>25</td>\n      <td>0</td>\n    </tr>\n    <tr>\n      <th>1</th>\n      <td>218</td>\n      <td>0</td>\n      <td>2</td>\n      <td>2</td>\n      <td>2</td>\n      <td>1</td>\n      <td>15</td>\n      <td>0</td>\n      <td>7</td>\n      <td>6</td>\n      <td>...</td>\n      <td>41</td>\n      <td>41</td>\n      <td>1</td>\n      <td>1</td>\n      <td>23</td>\n      <td>0</td>\n      <td>4.545455</td>\n      <td>1.090909</td>\n      <td>2</td>\n      <td>0</td>\n    </tr>\n    <tr>\n      <th>2</th>\n      <td>4</td>\n      <td>0</td>\n      <td>1</td>\n      <td>1</td>\n      <td>1</td>\n      <td>1</td>\n      <td>3</td>\n      <td>0</td>\n      <td>3</td>\n      <td>0</td>\n      <td>...</td>\n      <td>0</td>\n      <td>2</td>\n      <td>0</td>\n      <td>0</td>\n      <td>1</td>\n      <td>0</td>\n      <td>2.000000</td>\n      <td>1.000000</td>\n      <td>2</td>\n      <td>0</td>\n    </tr>\n    <tr>\n      <th>3</th>\n      <td>5</td>\n      <td>0</td>\n      <td>2</td>\n      <td>2</td>\n      <td>2</td>\n      <td>1</td>\n      <td>4</td>\n      <td>0</td>\n      <td>4</td>\n      <td>0</td>\n      <td>...</td>\n      <td>245</td>\n      <td>279</td>\n      <td>0</td>\n      <td>0</td>\n      <td>0</td>\n      <td>0</td>\n      <td>0.000000</td>\n      <td>0.000000</td>\n      <td>0</td>\n      <td>0</td>\n    </tr>\n    <tr>\n      <th>4</th>\n      <td>19</td>\n      <td>0</td>\n      <td>1</td>\n      <td>1</td>\n      <td>1</td>\n      <td>1</td>\n      <td>9</td>\n      <td>0</td>\n      <td>4</td>\n      <td>5</td>\n      <td>...</td>\n      <td>2</td>\n      <td>2</td>\n      <td>0</td>\n      <td>0</td>\n      <td>1</td>\n      <td>1</td>\n      <td>1.000000</td>\n      <td>1.000000</td>\n      <td>1</td>\n      <td>0</td>\n    </tr>\n    <tr>\n      <th>...</th>\n      <td>...</td>\n      <td>...</td>\n      <td>...</td>\n      <td>...</td>\n      <td>...</td>\n      <td>...</td>\n      <td>...</td>\n      <td>...</td>\n      <td>...</td>\n      <td>...</td>\n      <td>...</td>\n      <td>...</td>\n      <td>...</td>\n      <td>...</td>\n      <td>...</td>\n      <td>...</td>\n      <td>...</td>\n      <td>...</td>\n      <td>...</td>\n      <td>...</td>\n      <td>...</td>\n    </tr>\n    <tr>\n      <th>298169</th>\n      <td>100</td>\n      <td>0</td>\n      <td>1</td>\n      <td>1</td>\n      <td>1</td>\n      <td>1</td>\n      <td>8</td>\n      <td>0</td>\n      <td>4</td>\n      <td>3</td>\n      <td>...</td>\n      <td>13</td>\n      <td>14</td>\n      <td>0</td>\n      <td>0</td>\n      <td>10</td>\n      <td>1</td>\n      <td>1.444444</td>\n      <td>1.000000</td>\n      <td>2</td>\n      <td>0</td>\n    </tr>\n    <tr>\n      <th>298170</th>\n      <td>16</td>\n      <td>0</td>\n      <td>2</td>\n      <td>2</td>\n      <td>2</td>\n      <td>1</td>\n      <td>15</td>\n      <td>3</td>\n      <td>12</td>\n      <td>0</td>\n      <td>...</td>\n      <td>3</td>\n      <td>3</td>\n      <td>0</td>\n      <td>0</td>\n      <td>2</td>\n      <td>0</td>\n      <td>6.000000</td>\n      <td>1.000000</td>\n      <td>3</td>\n      <td>0</td>\n    </tr>\n    <tr>\n      <th>298171</th>\n      <td>111</td>\n      <td>1</td>\n      <td>1</td>\n      <td>1</td>\n      <td>1</td>\n      <td>1</td>\n      <td>6</td>\n      <td>0</td>\n      <td>4</td>\n      <td>1</td>\n      <td>...</td>\n      <td>29</td>\n      <td>25</td>\n      <td>0</td>\n      <td>0</td>\n      <td>13</td>\n      <td>2</td>\n      <td>1.692308</td>\n      <td>1.000000</td>\n      <td>1</td>\n      <td>0</td>\n    </tr>\n    <tr>\n      <th>298172</th>\n      <td>98</td>\n      <td>0</td>\n      <td>1</td>\n      <td>1</td>\n      <td>1</td>\n      <td>1</td>\n      <td>4</td>\n      <td>0</td>\n      <td>3</td>\n      <td>0</td>\n      <td>...</td>\n      <td>39</td>\n      <td>29</td>\n      <td>0</td>\n      <td>0</td>\n      <td>15</td>\n      <td>1</td>\n      <td>1.866667</td>\n      <td>1.000000</td>\n      <td>5</td>\n      <td>0</td>\n    </tr>\n    <tr>\n      <th>298173</th>\n      <td>22</td>\n      <td>0</td>\n      <td>1</td>\n      <td>1</td>\n      <td>1</td>\n      <td>1</td>\n      <td>21</td>\n      <td>0</td>\n      <td>21</td>\n      <td>0</td>\n      <td>...</td>\n      <td>4</td>\n      <td>10</td>\n      <td>0</td>\n      <td>0</td>\n      <td>1</td>\n      <td>0</td>\n      <td>20.000000</td>\n      <td>1.000000</td>\n      <td>5</td>\n      <td>0</td>\n    </tr>\n  </tbody>\n</table>\n<p>298174 rows × 82 columns</p>\n</div>"
     },
     "execution_count": 2,
     "metadata": {},
     "output_type": "execute_result"
    }
   ],
   "source": [
    "df"
   ],
   "metadata": {
    "collapsed": false,
    "ExecuteTime": {
     "end_time": "2024-02-02T20:07:44.004076700Z",
     "start_time": "2024-02-02T20:07:43.514865900Z"
    }
   },
   "id": "a1e6400c9b00626f",
   "execution_count": 2
  },
  {
   "cell_type": "markdown",
   "source": [
    "# Step 2: Pre-Processing"
   ],
   "metadata": {
    "collapsed": false
   },
   "id": "81f38060b1a5a278"
  },
  {
   "cell_type": "markdown",
   "source": [
    "### Normalizing Feature Data while Excluding Class Label\n",
    "\n",
    "This code cell normalizes the feature data in the DataFrame `df`, excluding the class label column (`Class Label`). The feature columns are extracted, and a `MinMaxScaler` is used to normalize the data. After normalization, the class label column is concatenated back to the normalized feature data to form the final DataFrame `normalized_df`.\n"
   ],
   "metadata": {
    "collapsed": false
   },
   "id": "948145129a010bc5"
  },
  {
   "cell_type": "code",
   "outputs": [],
   "source": [
    "from sklearn.preprocessing import MinMaxScaler\n",
    "\n",
    "# Extract feature columns (excluding the class label column)\n",
    "feature_columns = df.drop(columns=['Class Label'])\n",
    "\n",
    "# Create a MinMaxScaler object\n",
    "scaler = MinMaxScaler()\n",
    "\n",
    "# Normalize the feature data\n",
    "normalized_features = scaler.fit_transform(feature_columns)\n",
    "\n",
    "# Convert the normalized feature data back to a DataFrame\n",
    "normalized_df = pd.DataFrame(normalized_features, columns=feature_columns.columns)\n",
    "\n",
    "# Concatenate the normalized feature data with the class label column\n",
    "normalized_df['Class Label'] = df['Class Label']\n",
    "# Now 'normalized_df' contains your normalized feature data with the class label column intact"
   ],
   "metadata": {
    "collapsed": false,
    "ExecuteTime": {
     "end_time": "2024-02-01T10:59:48.200601Z",
     "start_time": "2024-02-01T10:59:47.746733700Z"
    }
   },
   "id": "87ecb18655756453",
   "execution_count": 5
  },
  {
   "cell_type": "code",
   "outputs": [
    {
     "data": {
      "text/plain": "        FEATURE1  FEATURE2  FEATURE3  FEATURE4  FEATURE5  FEATURE6  FEATURE7  \\\n0       0.022653  0.000000  0.003205  0.016667  0.003205       0.0  0.034413   \n1       0.006856  0.000000  0.003205  0.016667  0.003205       0.0  0.030364   \n2       0.000095  0.000000  0.000000  0.000000  0.000000       0.0  0.006073   \n3       0.000126  0.000000  0.003205  0.016667  0.003205       0.0  0.008097   \n4       0.000569  0.000000  0.000000  0.000000  0.000000       0.0  0.018219   \n...          ...       ...       ...       ...       ...       ...       ...   \n298169  0.003128  0.000000  0.000000  0.000000  0.000000       0.0  0.016194   \n298170  0.000474  0.000000  0.003205  0.016667  0.003205       0.0  0.030364   \n298171  0.003475  0.000999  0.000000  0.000000  0.000000       0.0  0.012146   \n298172  0.003065  0.000000  0.000000  0.000000  0.000000       0.0  0.008097   \n298173  0.000663  0.000000  0.000000  0.000000  0.000000       0.0  0.042510   \n\n        FEATURE8  FEATURE9  FEATURE10  ...  FEATURE73  FEATURE74  FEATURE75  \\\n0       0.000000  0.024590   0.009524  ...   0.007904   0.021443   0.064286   \n1       0.000000  0.014344   0.019048  ...   0.005227   0.007450   0.007143   \n2       0.000000  0.006148   0.000000  ...   0.000000   0.000363   0.000000   \n3       0.000000  0.008197   0.000000  ...   0.031234   0.050700   0.000000   \n4       0.000000  0.008197   0.015873  ...   0.000255   0.000363   0.000000   \n...          ...       ...        ...  ...        ...        ...        ...   \n298169  0.000000  0.008197   0.009524  ...   0.001657   0.002544   0.000000   \n298170  0.054545  0.024590   0.000000  ...   0.000382   0.000545   0.000000   \n298171  0.000000  0.008197   0.003175  ...   0.003697   0.004543   0.000000   \n298172  0.000000  0.006148   0.000000  ...   0.004972   0.005270   0.000000   \n298173  0.000000  0.043033   0.000000  ...   0.000510   0.001817   0.000000   \n\n        FEATURE76     FEATURE77  FEATURE78  FEATURE79  FEATURE80  FEATURE81  \\\n0        0.000000  1.539966e-08   0.027027   0.014721   0.031818   0.102041   \n1        0.012195  4.599898e-09   0.000000   0.009396   0.018182   0.008163   \n2        0.000000  1.999956e-10   0.000000   0.004134   0.016667   0.008163   \n3        0.000000  0.000000e+00   0.000000   0.000000   0.000000   0.000000   \n4        0.000000  1.999956e-10   0.027027   0.002067   0.016667   0.004082   \n...           ...           ...        ...        ...        ...        ...   \n298169   0.000000  1.999956e-09   0.027027   0.002986   0.016667   0.008163   \n298170   0.000000  3.999911e-10   0.000000   0.012403   0.016667   0.012245   \n298171   0.000000  2.599942e-09   0.054054   0.003498   0.016667   0.004082   \n298172   0.000000  2.999933e-09   0.027027   0.003859   0.016667   0.020408   \n298173   0.000000  1.999956e-10   0.000000   0.041344   0.016667   0.020408   \n\n        Class Label  \n0                 0  \n1                 0  \n2                 0  \n3                 0  \n4                 0  \n...             ...  \n298169            0  \n298170            0  \n298171            0  \n298172            0  \n298173            0  \n\n[298174 rows x 82 columns]",
      "text/html": "<div>\n<style scoped>\n    .dataframe tbody tr th:only-of-type {\n        vertical-align: middle;\n    }\n\n    .dataframe tbody tr th {\n        vertical-align: top;\n    }\n\n    .dataframe thead th {\n        text-align: right;\n    }\n</style>\n<table border=\"1\" class=\"dataframe\">\n  <thead>\n    <tr style=\"text-align: right;\">\n      <th></th>\n      <th>FEATURE1</th>\n      <th>FEATURE2</th>\n      <th>FEATURE3</th>\n      <th>FEATURE4</th>\n      <th>FEATURE5</th>\n      <th>FEATURE6</th>\n      <th>FEATURE7</th>\n      <th>FEATURE8</th>\n      <th>FEATURE9</th>\n      <th>FEATURE10</th>\n      <th>...</th>\n      <th>FEATURE73</th>\n      <th>FEATURE74</th>\n      <th>FEATURE75</th>\n      <th>FEATURE76</th>\n      <th>FEATURE77</th>\n      <th>FEATURE78</th>\n      <th>FEATURE79</th>\n      <th>FEATURE80</th>\n      <th>FEATURE81</th>\n      <th>Class Label</th>\n    </tr>\n  </thead>\n  <tbody>\n    <tr>\n      <th>0</th>\n      <td>0.022653</td>\n      <td>0.000000</td>\n      <td>0.003205</td>\n      <td>0.016667</td>\n      <td>0.003205</td>\n      <td>0.0</td>\n      <td>0.034413</td>\n      <td>0.000000</td>\n      <td>0.024590</td>\n      <td>0.009524</td>\n      <td>...</td>\n      <td>0.007904</td>\n      <td>0.021443</td>\n      <td>0.064286</td>\n      <td>0.000000</td>\n      <td>1.539966e-08</td>\n      <td>0.027027</td>\n      <td>0.014721</td>\n      <td>0.031818</td>\n      <td>0.102041</td>\n      <td>0</td>\n    </tr>\n    <tr>\n      <th>1</th>\n      <td>0.006856</td>\n      <td>0.000000</td>\n      <td>0.003205</td>\n      <td>0.016667</td>\n      <td>0.003205</td>\n      <td>0.0</td>\n      <td>0.030364</td>\n      <td>0.000000</td>\n      <td>0.014344</td>\n      <td>0.019048</td>\n      <td>...</td>\n      <td>0.005227</td>\n      <td>0.007450</td>\n      <td>0.007143</td>\n      <td>0.012195</td>\n      <td>4.599898e-09</td>\n      <td>0.000000</td>\n      <td>0.009396</td>\n      <td>0.018182</td>\n      <td>0.008163</td>\n      <td>0</td>\n    </tr>\n    <tr>\n      <th>2</th>\n      <td>0.000095</td>\n      <td>0.000000</td>\n      <td>0.000000</td>\n      <td>0.000000</td>\n      <td>0.000000</td>\n      <td>0.0</td>\n      <td>0.006073</td>\n      <td>0.000000</td>\n      <td>0.006148</td>\n      <td>0.000000</td>\n      <td>...</td>\n      <td>0.000000</td>\n      <td>0.000363</td>\n      <td>0.000000</td>\n      <td>0.000000</td>\n      <td>1.999956e-10</td>\n      <td>0.000000</td>\n      <td>0.004134</td>\n      <td>0.016667</td>\n      <td>0.008163</td>\n      <td>0</td>\n    </tr>\n    <tr>\n      <th>3</th>\n      <td>0.000126</td>\n      <td>0.000000</td>\n      <td>0.003205</td>\n      <td>0.016667</td>\n      <td>0.003205</td>\n      <td>0.0</td>\n      <td>0.008097</td>\n      <td>0.000000</td>\n      <td>0.008197</td>\n      <td>0.000000</td>\n      <td>...</td>\n      <td>0.031234</td>\n      <td>0.050700</td>\n      <td>0.000000</td>\n      <td>0.000000</td>\n      <td>0.000000e+00</td>\n      <td>0.000000</td>\n      <td>0.000000</td>\n      <td>0.000000</td>\n      <td>0.000000</td>\n      <td>0</td>\n    </tr>\n    <tr>\n      <th>4</th>\n      <td>0.000569</td>\n      <td>0.000000</td>\n      <td>0.000000</td>\n      <td>0.000000</td>\n      <td>0.000000</td>\n      <td>0.0</td>\n      <td>0.018219</td>\n      <td>0.000000</td>\n      <td>0.008197</td>\n      <td>0.015873</td>\n      <td>...</td>\n      <td>0.000255</td>\n      <td>0.000363</td>\n      <td>0.000000</td>\n      <td>0.000000</td>\n      <td>1.999956e-10</td>\n      <td>0.027027</td>\n      <td>0.002067</td>\n      <td>0.016667</td>\n      <td>0.004082</td>\n      <td>0</td>\n    </tr>\n    <tr>\n      <th>...</th>\n      <td>...</td>\n      <td>...</td>\n      <td>...</td>\n      <td>...</td>\n      <td>...</td>\n      <td>...</td>\n      <td>...</td>\n      <td>...</td>\n      <td>...</td>\n      <td>...</td>\n      <td>...</td>\n      <td>...</td>\n      <td>...</td>\n      <td>...</td>\n      <td>...</td>\n      <td>...</td>\n      <td>...</td>\n      <td>...</td>\n      <td>...</td>\n      <td>...</td>\n      <td>...</td>\n    </tr>\n    <tr>\n      <th>298169</th>\n      <td>0.003128</td>\n      <td>0.000000</td>\n      <td>0.000000</td>\n      <td>0.000000</td>\n      <td>0.000000</td>\n      <td>0.0</td>\n      <td>0.016194</td>\n      <td>0.000000</td>\n      <td>0.008197</td>\n      <td>0.009524</td>\n      <td>...</td>\n      <td>0.001657</td>\n      <td>0.002544</td>\n      <td>0.000000</td>\n      <td>0.000000</td>\n      <td>1.999956e-09</td>\n      <td>0.027027</td>\n      <td>0.002986</td>\n      <td>0.016667</td>\n      <td>0.008163</td>\n      <td>0</td>\n    </tr>\n    <tr>\n      <th>298170</th>\n      <td>0.000474</td>\n      <td>0.000000</td>\n      <td>0.003205</td>\n      <td>0.016667</td>\n      <td>0.003205</td>\n      <td>0.0</td>\n      <td>0.030364</td>\n      <td>0.054545</td>\n      <td>0.024590</td>\n      <td>0.000000</td>\n      <td>...</td>\n      <td>0.000382</td>\n      <td>0.000545</td>\n      <td>0.000000</td>\n      <td>0.000000</td>\n      <td>3.999911e-10</td>\n      <td>0.000000</td>\n      <td>0.012403</td>\n      <td>0.016667</td>\n      <td>0.012245</td>\n      <td>0</td>\n    </tr>\n    <tr>\n      <th>298171</th>\n      <td>0.003475</td>\n      <td>0.000999</td>\n      <td>0.000000</td>\n      <td>0.000000</td>\n      <td>0.000000</td>\n      <td>0.0</td>\n      <td>0.012146</td>\n      <td>0.000000</td>\n      <td>0.008197</td>\n      <td>0.003175</td>\n      <td>...</td>\n      <td>0.003697</td>\n      <td>0.004543</td>\n      <td>0.000000</td>\n      <td>0.000000</td>\n      <td>2.599942e-09</td>\n      <td>0.054054</td>\n      <td>0.003498</td>\n      <td>0.016667</td>\n      <td>0.004082</td>\n      <td>0</td>\n    </tr>\n    <tr>\n      <th>298172</th>\n      <td>0.003065</td>\n      <td>0.000000</td>\n      <td>0.000000</td>\n      <td>0.000000</td>\n      <td>0.000000</td>\n      <td>0.0</td>\n      <td>0.008097</td>\n      <td>0.000000</td>\n      <td>0.006148</td>\n      <td>0.000000</td>\n      <td>...</td>\n      <td>0.004972</td>\n      <td>0.005270</td>\n      <td>0.000000</td>\n      <td>0.000000</td>\n      <td>2.999933e-09</td>\n      <td>0.027027</td>\n      <td>0.003859</td>\n      <td>0.016667</td>\n      <td>0.020408</td>\n      <td>0</td>\n    </tr>\n    <tr>\n      <th>298173</th>\n      <td>0.000663</td>\n      <td>0.000000</td>\n      <td>0.000000</td>\n      <td>0.000000</td>\n      <td>0.000000</td>\n      <td>0.0</td>\n      <td>0.042510</td>\n      <td>0.000000</td>\n      <td>0.043033</td>\n      <td>0.000000</td>\n      <td>...</td>\n      <td>0.000510</td>\n      <td>0.001817</td>\n      <td>0.000000</td>\n      <td>0.000000</td>\n      <td>1.999956e-10</td>\n      <td>0.000000</td>\n      <td>0.041344</td>\n      <td>0.016667</td>\n      <td>0.020408</td>\n      <td>0</td>\n    </tr>\n  </tbody>\n</table>\n<p>298174 rows × 82 columns</p>\n</div>"
     },
     "execution_count": 6,
     "metadata": {},
     "output_type": "execute_result"
    }
   ],
   "source": [
    "normalized_df"
   ],
   "metadata": {
    "collapsed": false,
    "ExecuteTime": {
     "end_time": "2024-02-01T10:59:48.309076400Z",
     "start_time": "2024-02-01T10:59:48.203637900Z"
    }
   },
   "id": "805bb8467bfde5c2",
   "execution_count": 6
  },
  {
   "cell_type": "markdown",
   "source": [
    "# Step 3"
   ],
   "metadata": {
    "collapsed": false
   },
   "id": "97d4d1d5b4f61851"
  },
  {
   "cell_type": "markdown",
   "source": [
    "### Calculating Correlation between Features\n",
    "\n",
    "This code cell calculates the correlation matrix for the features in the DataFrame `normalized_df`. The correlation matrix contains pairwise correlation coefficients between all numeric columns in the DataFrame. \n"
   ],
   "metadata": {
    "collapsed": false
   },
   "id": "2a016b2e9d44e2ed"
  },
  {
   "cell_type": "code",
   "outputs": [
    {
     "name": "stdout",
     "output_type": "stream",
     "text": [
      "             FEATURE1  FEATURE2  FEATURE3  FEATURE4  FEATURE5  FEATURE6  \\\n",
      "FEATURE1     1.000000  0.184911  0.228226  0.240016  0.234223  0.144413   \n",
      "FEATURE2     0.184911  1.000000  0.032185  0.030240  0.033091  0.016819   \n",
      "FEATURE3     0.228226  0.032185  1.000000  0.785091  0.968051  0.520634   \n",
      "FEATURE4     0.240016  0.030240  0.785091  1.000000  0.797964  0.605563   \n",
      "FEATURE5     0.234223  0.033091  0.968051  0.797964  1.000000  0.542560   \n",
      "...               ...       ...       ...       ...       ...       ...   \n",
      "FEATURE78    0.189082  0.018268 -0.056882 -0.081058 -0.053820 -0.043439   \n",
      "FEATURE79    0.267178  0.024489  0.790362  0.766844  0.787849  0.473899   \n",
      "FEATURE80    0.195622  0.002449  0.518498  0.671692  0.519861  0.306370   \n",
      "FEATURE81    0.542660  0.036067  0.218920  0.271766  0.222593  0.129795   \n",
      "Class Label  0.579458  0.106259  0.096765  0.100527  0.102132  0.068111   \n",
      "\n",
      "             FEATURE7  FEATURE8  FEATURE9  FEATURE10  ...  FEATURE73  \\\n",
      "FEATURE1     0.326412  0.171014  0.276971   0.294280  ...   0.639951   \n",
      "FEATURE2     0.024418  0.004680  0.020817   0.027909  ...   0.124362   \n",
      "FEATURE3     0.730817  0.422648  0.786833   0.450942  ...   0.108858   \n",
      "FEATURE4     0.775083  0.517651  0.808896   0.300550  ...   0.115810   \n",
      "FEATURE5     0.730585  0.422796  0.784571   0.442770  ...   0.114470   \n",
      "...               ...       ...       ...        ...  ...        ...   \n",
      "FEATURE78   -0.016301 -0.047769 -0.060099   0.092353  ...   0.135463   \n",
      "FEATURE79    0.926687  0.658619  0.969759   0.426701  ...   0.095302   \n",
      "FEATURE80    0.766553  0.614141  0.781747   0.293827  ...   0.052510   \n",
      "FEATURE81    0.311414  0.198416  0.306951   0.142368  ...   0.401593   \n",
      "Class Label  0.116966  0.068210  0.109344   0.077496  ...   0.394574   \n",
      "\n",
      "             FEATURE74  FEATURE75  FEATURE76  FEATURE77  FEATURE78  FEATURE79  \\\n",
      "FEATURE1      0.700037   0.616254   0.226677   0.313537   0.189082   0.267178   \n",
      "FEATURE2      0.085826   0.040259   0.106706   0.065722   0.018268   0.024489   \n",
      "FEATURE3      0.154793   0.265263   0.051218   0.133596  -0.056882   0.790362   \n",
      "FEATURE4      0.182834   0.340836   0.056461   0.163568  -0.081058   0.766844   \n",
      "FEATURE5      0.161124   0.267047   0.053678   0.138527  -0.053820   0.787849   \n",
      "...                ...        ...        ...        ...        ...        ...   \n",
      "FEATURE78     0.102701   0.104555   0.083867   0.028072   1.000000  -0.060266   \n",
      "FEATURE79     0.158083   0.376203   0.064898   0.145363  -0.060266   1.000000   \n",
      "FEATURE80     0.122953   0.467675   0.048669   0.082657  -0.077847   0.770121   \n",
      "FEATURE81     0.489706   0.711892   0.175960   0.114039   0.112396   0.306306   \n",
      "Class Label   0.423073   0.307980   0.075455   0.302372   0.052914   0.105361   \n",
      "\n",
      "             FEATURE80  FEATURE81  Class Label  \n",
      "FEATURE1      0.195622   0.542660     0.579458  \n",
      "FEATURE2      0.002449   0.036067     0.106259  \n",
      "FEATURE3      0.518498   0.218920     0.096765  \n",
      "FEATURE4      0.671692   0.271766     0.100527  \n",
      "FEATURE5      0.519861   0.222593     0.102132  \n",
      "...                ...        ...          ...  \n",
      "FEATURE78    -0.077847   0.112396     0.052914  \n",
      "FEATURE79     0.770121   0.306306     0.105361  \n",
      "FEATURE80     1.000000   0.296384     0.063604  \n",
      "FEATURE81     0.296384   1.000000     0.284718  \n",
      "Class Label   0.063604   0.284718     1.000000  \n",
      "\n",
      "[82 rows x 82 columns]\n"
     ]
    }
   ],
   "source": [
    "# Calculate the correlation matrix\n",
    "correlation_matrix = normalized_df.corr()\n",
    "\n",
    "# Print or visualize the correlation matrix\n",
    "print(correlation_matrix)"
   ],
   "metadata": {
    "collapsed": false,
    "ExecuteTime": {
     "end_time": "2024-02-01T09:13:47.771772300Z",
     "start_time": "2024-02-01T09:13:39.240914400Z"
    }
   },
   "id": "828a9226b59ae277",
   "execution_count": 13
  },
  {
   "cell_type": "markdown",
   "source": [
    "### Plotting Correlation Heatmap\n",
    "\n",
    "This code cell generates a heatmap visualization of the correlation matrix calculated earlier. It uses the Seaborn and Matplotlib libraries to create a graphical representation of the correlation coefficients between features.\n"
   ],
   "metadata": {
    "collapsed": false
   },
   "id": "3f07fd7622a8fc3e"
  },
  {
   "cell_type": "code",
   "outputs": [
    {
     "data": {
      "text/plain": "<Figure size 1000x800 with 2 Axes>",
      "image/png": "[encoded data removed]"
     },
     "metadata": {},
     "output_type": "display_data"
    }
   ],
   "source": [
    "import seaborn as sns\n",
    "import matplotlib.pyplot as plt\n",
    "\n",
    "# Plotting the correlation heatmap\n",
    "plt.figure(figsize=(10, 8))\n",
    "sns.heatmap(correlation_matrix, annot=False, cmap='coolwarm', fmt=\".2f\", linewidths=.5)\n",
    "plt.title('Correlation Heatmap')\n",
    "plt.show()"
   ],
   "metadata": {
    "collapsed": false,
    "ExecuteTime": {
     "end_time": "2024-02-01T09:13:49.670548Z",
     "start_time": "2024-02-01T09:13:47.874322600Z"
    }
   },
   "id": "946e2fe621ea753f",
   "execution_count": 14
  },
  {
   "cell_type": "markdown",
   "source": [
    "# Part 4: Unsupervised Learning"
   ],
   "metadata": {
    "collapsed": false
   },
   "id": "1e4c9feb039bcc0e"
  },
  {
   "cell_type": "markdown",
   "source": [
    "## Part 4.1:"
   ],
   "metadata": {
    "collapsed": false
   },
   "id": "d1d1c7d9e1dba038"
  },
  {
   "cell_type": "markdown",
   "source": [
    "## Calculating optimal k using elbow method"
   ],
   "metadata": {
    "collapsed": false
   },
   "id": "1d19811312bcdaba"
  },
  {
   "cell_type": "code",
   "outputs": [
    {
     "data": {
      "text/plain": "<Figure size 1000x600 with 1 Axes>",
      "image/png": "[encoded data removed]"
     },
     "metadata": {},
     "output_type": "display_data"
    }
   ],
   "source": [
    "import matplotlib.pyplot as plt\n",
    "from sklearn.cluster import KMeans\n",
    "import numpy as np\n",
    "\n",
    "# Assuming normalized_df is your DataFrame containing the normalized data\n",
    "# Drop the 'Class Label' column\n",
    "data_for_clustering = normalized_df.drop('Class Label', axis=1)\n",
    "\n",
    "# Define a range of K values to test\n",
    "k_values = range(1, 11)  # You can adjust the range as needed\n",
    "\n",
    "# Initialize an empty list to store the within-cluster sum of squared distances (WCSS) for each K\n",
    "wcss = []\n",
    "\n",
    "# Iterate over each K value and compute KMeans\n",
    "for k in k_values:\n",
    "    kmeans = KMeans(n_clusters=k)\n",
    "    kmeans.fit(data_for_clustering)\n",
    "    wcss.append(kmeans.inertia_)  # inertia_ gives the WCSS for the model\n",
    "\n",
    "# Plot the elbow curve\n",
    "plt.figure(figsize=(10, 6))\n",
    "plt.plot(k_values, wcss, marker='o', linestyle='-')\n",
    "plt.title('Elbow Method')\n",
    "plt.xlabel('Number of Clusters (K)')\n",
    "plt.ylabel('Within-Cluster Sum of Squared Distances (WCSS)')\n",
    "plt.xticks(np.arange(min(k_values), max(k_values) + 1, 1.0))\n",
    "plt.grid(True)\n",
    "plt.show()"
   ],
   "metadata": {
    "collapsed": false,
    "ExecuteTime": {
     "end_time": "2024-02-01T09:14:01.943510Z",
     "start_time": "2024-02-01T09:13:49.659494300Z"
    }
   },
   "id": "887a97a9ad95141c",
   "execution_count": 15
  },
  {
   "cell_type": "markdown",
   "source": [
    "## Performing K-means"
   ],
   "metadata": {
    "collapsed": false
   },
   "id": "1ae10fe2d171fa6e"
  },
  {
   "cell_type": "code",
   "outputs": [
    {
     "name": "stdout",
     "output_type": "stream",
     "text": [
      "Cluster Labels\n",
      "1    111981\n",
      "2     95418\n",
      "3     56260\n",
      "0     34515\n",
      "Name: count, dtype: int64\n",
      "Centroids:\n",
      "[[4.19031376e-03 5.10117706e-04 4.08753159e-03 1.99718136e-02\n",
      "  4.71088504e-03 5.35335541e-03 2.94118440e-02 1.16792856e-02\n",
      "  2.27702791e-02 7.92078753e-03 1.16326008e-02 2.09194181e-02\n",
      "  4.85002074e-04 3.34116325e-03 4.84800361e-04 1.59467500e-02\n",
      "  1.68515603e-03 1.46423193e-02 3.14911448e-02 2.10305344e-03\n",
      "  1.33309948e-03 8.83896886e-04 1.56754256e-02 1.02271152e-02\n",
      "  2.74863774e-03 1.29037477e-02 1.66261104e-03 6.37895700e-03\n",
      "  7.86004645e-03 8.65318469e-03 1.16236664e-02 7.13867338e-03\n",
      "  3.46330520e-03 9.61661509e-03 3.98532905e-03 9.02753646e-03\n",
      "  1.74991839e-01 8.13558714e-02 2.10979381e-01 1.01385087e-02\n",
      "  5.94298904e-03 7.44160491e-03 5.31826410e-03 5.46411853e-03\n",
      "  7.81153666e-01 5.39559384e-03 3.76266786e-03 1.43361230e-02\n",
      "  6.51994640e-03 8.05316273e-01 4.63547567e-02 1.74720669e-04\n",
      "  1.74741197e-04 8.21372535e-05 1.35358321e-04 1.88409731e-04\n",
      "  1.13910270e-04 8.39023578e-05 2.38679735e-04 1.68746684e-04\n",
      "  2.26080666e-04 1.71090301e-02 8.98514242e-03 3.33580693e-01\n",
      "  1.43359058e-02 3.52724545e-02 5.34523045e-04 3.16291361e-04\n",
      "  1.44877131e-03 6.46595745e-03 2.36599781e-01 3.07835825e-01\n",
      "  4.80414134e-03 5.78726695e-03 1.77770929e-02 2.96543609e-03\n",
      "  2.45917746e-04 2.70489417e-02 1.49598122e-02 3.78205115e-02\n",
      "  2.42145115e-02]\n",
      " [1.41010552e-03 4.08321731e-05 2.82857623e-03 1.40202356e-02\n",
      "  3.31120160e-03 3.66302904e-03 2.33772488e-02 1.00596611e-02\n",
      "  1.87097387e-02 5.63176605e-03 8.41863595e-03 1.25714755e-02\n",
      "  2.35590675e-04 1.52636159e-03 1.50532618e-04 5.95183721e-03\n",
      "  4.33515101e-04 4.09423197e-03 4.11725899e-02 1.10825741e-03\n",
      "  3.92727225e-04 6.10391698e-04 5.72748609e-03 3.40041881e-03\n",
      "  8.81350118e-04 4.57552492e-03 5.14646135e-04 2.37361225e-03\n",
      "  2.37242020e-03 2.61201476e-03 3.80858140e-03 2.06086114e-03\n",
      "  1.51425263e-03 4.27321642e-03 1.75026103e-03 3.02328074e-03\n",
      "  2.03233341e-01 4.24064286e-02 4.89616096e-02 1.10319287e-02\n",
      "  1.56811036e-03 1.98078532e-03 1.42107265e-03 1.44674321e-03\n",
      "  9.68443518e-01 1.79860917e-03 1.37853119e-03 6.26871969e-03\n",
      "  9.80466132e-04 3.65226305e-02 3.56174224e-02 1.55785570e-04\n",
      "  1.49906906e-04 8.99097331e-05 1.16667257e-04 1.58637971e-04\n",
      "  9.46270739e-05 9.34480915e-05 2.12216720e-04 1.44077148e-04\n",
      "  1.99046925e-04 2.20503987e-02 3.04088336e-03 2.10999456e-01\n",
      "  6.26938945e-03 5.04862885e-02 2.00330293e-04 1.47287415e-04\n",
      "  3.55214034e-04 2.46422665e-03 2.27412686e-01 1.86624543e-01\n",
      "  1.44494467e-03 2.58548151e-03 8.42158172e-03 1.05309677e-03\n",
      "  3.85154404e-06 1.76101303e-02 1.21123289e-02 3.45385186e-02\n",
      "  1.53741825e-02]\n",
      " [8.89981713e-03 1.41954978e-03 3.27638239e-03 1.52748954e-02\n",
      "  3.87954018e-03 3.21095977e-03 2.73111945e-02 9.16828177e-03\n",
      "  2.03535890e-02 8.24453156e-03 1.87349249e-02 2.97500793e-02\n",
      "  8.20065675e-04 4.42291551e-03 1.51510580e-03 3.20204078e-02\n",
      "  4.72112421e-03 3.08142245e-02 4.60780376e-02 7.68176836e-03\n",
      "  4.08489267e-03 2.82274509e-03 2.73961752e-02 2.25936781e-02\n",
      "  5.79391473e-03 2.71148540e-02 3.61965575e-03 1.35255884e-02\n",
      "  1.69571476e-02 1.84261182e-02 2.48925740e-02 1.51622840e-02\n",
      "  5.63787875e-03 1.50937647e-02 6.65916143e-03 1.53043601e-02\n",
      "  1.80090637e-01 1.08136356e-01 7.20222208e-01 1.07051863e-02\n",
      "  1.26843762e-02 1.55218268e-02 1.14234036e-02 1.14241767e-02\n",
      "  5.73046160e-01 9.51833892e-03 7.16709415e-03 2.18836079e-02\n",
      "  2.35058207e-02 1.66817238e-01 6.08997249e-02 4.50353367e-04\n",
      "  4.36663544e-04 2.73472414e-04 3.12619819e-04 4.83850411e-04\n",
      "  3.15345990e-04 2.37625990e-04 6.44414530e-04 4.20385641e-04\n",
      "  4.62474132e-04 1.08959051e-02 1.59631823e-02 4.14791223e-01\n",
      "  2.18884557e-02 4.33930508e-02 1.63576373e-03 1.21359391e-03\n",
      "  3.52222040e-03 9.48553654e-03 2.00293768e-01 3.79648903e-01\n",
      "  9.34892618e-03 1.10977976e-02 3.33480075e-02 7.99024247e-03\n",
      "  9.11820611e-04 3.39836409e-02 1.32471783e-02 3.52385884e-02\n",
      "  3.37691507e-02]\n",
      " [1.53751557e-03 9.46400502e-04 1.87065993e-03 8.91505940e-03\n",
      "  2.18863736e-03 1.96120498e-03 1.80418331e-02 6.03033266e-03\n",
      "  1.43256119e-02 4.72350253e-03 6.80343565e-03 8.68024846e-03\n",
      "  3.32229445e-04 2.10740223e-03 4.60146777e-04 6.72239432e-03\n",
      "  1.03764336e-03 5.09961019e-03 3.30420209e-02 4.09959366e-03\n",
      "  4.55752640e-04 9.08808106e-04 5.67708749e-03 3.85018992e-03\n",
      "  9.10640890e-04 5.69012894e-03 4.98208231e-04 2.88019503e-03\n",
      "  2.36775763e-03 2.61759947e-03 4.37358219e-03 1.89075211e-03\n",
      "  1.18528942e-03 3.15781454e-03 1.34899049e-03 2.11645385e-03\n",
      "  1.87585750e-01 3.39415332e-02 7.12093147e-02 1.17017822e-02\n",
      "  1.58698120e-03 1.95340661e-03 1.39724069e-03 1.61540799e-03\n",
      "  1.64902256e-01 1.01782614e-03 1.14588317e-03 3.71069238e-03\n",
      "  7.47097710e-03 3.86579892e-02 5.05036087e-02 3.14375842e-04\n",
      "  3.06285881e-04 1.51905689e-04 2.41297548e-04 3.32360680e-04\n",
      "  2.01415556e-04 1.89668088e-04 4.44911226e-04 3.13472189e-04\n",
      "  4.27564333e-04 1.63539167e-02 1.64004841e-03 2.03897129e-01\n",
      "  3.71087014e-03 3.08286503e-02 2.77423537e-04 2.04387119e-04\n",
      "  9.23811767e-04 2.77200127e-03 2.39022794e-01 1.83640673e-01\n",
      "  2.34750282e-03 3.97899980e-03 6.88497530e-03 2.38179371e-03\n",
      "  6.05621531e-07 1.22016782e-02 8.36289541e-03 2.77651959e-02\n",
      "  1.12560335e-02]]\n"
     ]
    }
   ],
   "source": [
    "from sklearn.cluster import KMeans\n",
    "\n",
    "# Assuming you have already loaded your DataFrame 'normalized_df' without the 'Class Labels' column\n",
    "\n",
    "# Define the number of clusters\n",
    "num_clusters = 4  # You can choose any number of clusters you want\n",
    "\n",
    "# Initialize KMeans object\n",
    "kmeans = KMeans(n_clusters=num_clusters, random_state=42)\n",
    "\n",
    "# Fit the KMeans model to the data\n",
    "kmeans.fit(data_for_clustering)\n",
    "\n",
    "# Get the cluster labels for each data point\n",
    "cluster_labels = kmeans.labels_\n",
    "\n",
    "# Add the cluster labels to the DataFrame\n",
    "data_for_clustering['Cluster Labels'] = cluster_labels\n",
    "\n",
    "# Print the counts of data points in each cluster\n",
    "print(data_for_clustering['Cluster Labels'].value_counts())\n",
    "\n",
    "# If you want to see the centroids of the clusters\n",
    "centroids = kmeans.cluster_centers_\n",
    "print(\"Centroids:\")\n",
    "print(centroids)"
   ],
   "metadata": {
    "collapsed": false,
    "ExecuteTime": {
     "end_time": "2024-02-01T09:14:03.451843800Z",
     "start_time": "2024-02-01T09:14:01.945522200Z"
    }
   },
   "id": "6cd56b0dc02f5a58",
   "execution_count": 16
  },
  {
   "cell_type": "code",
   "outputs": [
    {
     "name": "stdout",
     "output_type": "stream",
     "text": [
      "The average silhouette_score is : 0.551576359737496\n"
     ]
    }
   ],
   "source": [
    "from sklearn.metrics import silhouette_score\n",
    "\n",
    "# Calculate the Silhouette Score\n",
    "c1_silhouette_avg = silhouette_score(data_for_clustering, cluster_labels)\n",
    "\n",
    "# Print the Silhouette Score\n",
    "print(\"The average silhouette_score is :\", c1_silhouette_avg)"
   ],
   "metadata": {
    "collapsed": false,
    "ExecuteTime": {
     "end_time": "2024-02-01T09:31:37.938744Z",
     "start_time": "2024-02-01T09:14:03.451843800Z"
    }
   },
   "id": "87e99a8846186638",
   "execution_count": 17
  },
  {
   "cell_type": "markdown",
   "source": [
    "## Clone Repository: K-Means Feature Importance\n",
    "\n",
    "This code cell clones the GitHub repository [kmeans-feature-importance](https://github.com/YousefGh/kmeans-feature-importance.git) to your local environment.\n",
    "\n",
    "### Code Explanation\n",
    "\n",
    "The command `!git clone` is used to clone a Git repository from a specified URL. In this case, we are cloning the repository named \"kmeans-feature-importance\" from the GitHub URL provided.\n",
    "\n",
    "### Purpose\n",
    "\n",
    "The repository \"kmeans-feature-importance\" provides a wrapper around `sklearn.cluster.KMeans` called `kmeans_interp`. This wrapper adds the property `feature_importances_`, which serves as a cluster-based feature weighting technique. Features are weighted using either of the two methods: `wcss_min` or `unsup2sup`.\n",
    "\n",
    "### Usage\n",
    "\n",
    "- Cloning the repository allows you to access the code and resources available in the \"kmeans-feature-importance\" repository.\n",
    "- You can utilize the `kmeans_interp` wrapper for K-Means clustering with added feature importance functionality in your machine learning projects.\n",
    "- Refer to the [Toward Data Science article](https://towardsdatascience.com/interpretable-k-means-clusters-feature-importances-7e516eeb8d3c) by the repository owner for more detailed insights into the interpretation of K-Means clusters and feature importances.\n",
    "\n",
    "### Note\n",
    "\n",
    "Ensure that you have Git installed on your local environment to execute the `git clone` command successfully.\n",
    "\n",
    "### References\n",
    "\n",
    "- [Git Documentation: Clone a Repository](https://git-scm.com/docs/git-clone)\n",
    "- Repository: [kmeans-feature-importance](https://github.com/YousefGh/kmeans-feature-importance.git)\n",
    "- Toward Data Science Article: [Interpretable K-Means: Clusters Feature Importances](https://towardsdatascience.com/interpretable-k-means-clusters-feature-importances-7e516eeb8d3c)\n"
   ],
   "metadata": {
    "collapsed": false
   },
   "id": "c68eb5b3996ec949"
  },
  {
   "cell_type": "code",
   "outputs": [
    {
     "name": "stderr",
     "output_type": "stream",
     "text": [
      "fatal: destination path 'kmeans-feature-importance' already exists and is not an empty directory.\n"
     ]
    }
   ],
   "source": [
    "!git clone https://github.com/YousefGh/kmeans-feature-importance.git"
   ],
   "metadata": {
    "collapsed": false,
    "ExecuteTime": {
     "end_time": "2024-01-31T12:18:16.479633Z",
     "start_time": "2024-01-31T12:18:16.356355100Z"
    }
   },
   "id": "38bd7e160c50ee02",
   "execution_count": 9
  },
  {
   "cell_type": "markdown",
   "source": [
    "### Move the library folder into the project files"
   ],
   "metadata": {
    "collapsed": false
   },
   "id": "a5b7609f8e3e94d9"
  },
  {
   "cell_type": "code",
   "outputs": [
    {
     "name": "stdout",
     "output_type": "stream",
     "text": [
      "^C\n"
     ]
    }
   ],
   "source": [
    "!xcopy /s /e /i \"kmeans-feature-importance\\kmeans_interp\" \"kmeans_interp\""
   ],
   "metadata": {
    "collapsed": false,
    "ExecuteTime": {
     "end_time": "2024-01-31T06:28:38.162317200Z",
     "start_time": "2024-01-31T06:28:08.177165600Z"
    }
   },
   "id": "2bec036879b242a9",
   "execution_count": 10
  },
  {
   "cell_type": "markdown",
   "source": [
    "## calculating most important features in k-means using the logic of repo"
   ],
   "metadata": {
    "collapsed": false
   },
   "id": "81c3c394c95f568a"
  },
  {
   "cell_type": "code",
   "outputs": [
    {
     "data": {
      "text/plain": "[('FEATURE45', 0.9243226099842318),\n ('Cluster Labels', 0.7643962975094394),\n ('FEATURE64', 0.23986746359244537),\n ('FEATURE71', 0.2295579897930815),\n ('FEATURE50', 0.21767543469055842),\n ('FEATURE72', 0.2151708145117883),\n ('FEATURE37', 0.19658495174550433),\n ('FEATURE39', 0.08708203636945777),\n ('FEATURE38', 0.051581775676629506),\n ('FEATURE66', 0.04690450602892303),\n ('FEATURE19', 0.03889230941692878),\n ('FEATURE51', 0.03813345282522851),\n ('FEATURE80', 0.0353126009145386),\n ('FEATURE7', 0.02480001664800674),\n ('FEATURE62', 0.02088699425998695),\n ('FEATURE78', 0.019834505212945407),\n ('FEATURE9', 0.019667073100860296),\n ('FEATURE81', 0.01745548809300903),\n ('FEATURE4', 0.015423401776612621),\n ('FEATURE12', 0.014536708661882461),\n ('FEATURE79', 0.012783618752669096),\n ('FEATURE40', 0.01082193181900465),\n ('FEATURE75', 0.010623400736441049),\n ('FEATURE8', 0.010441613050558386),\n ('FEATURE11', 0.009174725631146796),\n ('FEATURE16', 0.008304397223202193),\n ('FEATURE65', 0.008168414154651246),\n ('FEATURE48', 0.008167953391218494),\n ('FEATURE23', 0.008069119094625637),\n ('FEATURE18', 0.00657731269113133),\n ('FEATURE26', 0.0065367340352054165),\n ('FEATURE10', 0.0061715537387226314),\n ('FEATURE31', 0.005648798900782796),\n ('FEATURE34', 0.005531875403067165),\n ('FEATURE24', 0.005007920058973594),\n ('FEATURE63', 0.004441142730907148),\n ('FEATURE36', 0.004437246674917905),\n ('FEATURE6', 0.004061779726126035),\n ('FEATURE30', 0.004034712661471936),\n ('FEATURE29', 0.003664812020768065),\n ('FEATURE5', 0.0036411688146206407),\n ('FEATURE70', 0.0034062884555735693),\n ('FEATURE74', 0.003339500835836073),\n ('FEATURE28', 0.0033171606128156632),\n ('FEATURE42', 0.003266578464627738),\n ('FEATURE32', 0.003256762547958887),\n ('FEATURE3', 0.00312538068773727),\n ('FEATURE46', 0.002645818283995229),\n ('FEATURE41', 0.0025982213320369595),\n ('FEATURE44', 0.0023925913920838974),\n ('FEATURE43', 0.002338747540978866),\n ('FEATURE49', 0.0022842781692259412),\n ('FEATURE35', 0.002276726671597675),\n ('FEATURE73', 0.0022362695124833014),\n ('FEATURE1', 0.002064907648522873),\n ('FEATURE33', 0.001973331756520612),\n ('FEATURE14', 0.00195424869953063),\n ('FEATURE47', 0.001940141122188617),\n ('FEATURE76', 0.0015039118690661525),\n ('FEATURE20', 0.0013421063206310799),\n ('FEATURE25', 0.0013211222823780783),\n ('FEATURE27', 0.000785007886887743),\n ('FEATURE17', 0.000727988154266553),\n ('FEATURE22', 0.0006749331039751141),\n ('FEATURE21', 0.0006142439160764475),\n ('FEATURE69', 0.000612612322147643),\n ('FEATURE13', 0.0002943570978360451),\n ('FEATURE67', 0.0002791193468859895),\n ('FEATURE15', 0.0002292892862625836),\n ('FEATURE59', 0.00021847920157483283),\n ('FEATURE61', 0.00020544240954077297),\n ('FEATURE68', 0.00018714207449395121),\n ('FEATURE56', 0.00016567417201990216),\n ('FEATURE52', 0.0001602670243000094),\n ('FEATURE53', 0.00015577823447849402),\n ('FEATURE2', 0.00015135448867392026),\n ('FEATURE60', 0.00014990896425657398),\n ('FEATURE55', 0.00012108664862802854),\n ('FEATURE57', 9.918348482238267e-05),\n ('FEATURE58', 9.120881767759744e-05),\n ('FEATURE54', 8.808803963616242e-05),\n ('FEATURE77', 6.09117729170333e-05)]"
     },
     "execution_count": 18,
     "metadata": {},
     "output_type": "execute_result"
    }
   ],
   "source": [
    "from kmeans_interp.kmeans_feature_imp import KMeansInterp\n",
    "\n",
    "X = data_for_clustering\n",
    "\n",
    "kms = KMeansInterp(\n",
    "    n_clusters=3,\n",
    "    ordered_feature_names=X.columns.tolist(),\n",
    "    feature_importance_method='wcss_min',  # or 'unsup2sup'\n",
    ").fit(X.values)\n",
    "\n",
    "# A dictionary where the key [0] is the cluster label, and [:10] will refer to the first 10 most important features\n",
    "kms.feature_importances_[0][:]  # Features here are words"
   ],
   "metadata": {
    "collapsed": false,
    "ExecuteTime": {
     "end_time": "2024-02-01T09:31:38.936662100Z",
     "start_time": "2024-02-01T09:31:37.942452500Z"
    }
   },
   "id": "73101c8f13e80633",
   "execution_count": 18
  },
  {
   "cell_type": "markdown",
   "source": [
    "# Part 4.2"
   ],
   "metadata": {
    "collapsed": false
   },
   "id": "95eba9eac8b04b41"
  },
  {
   "cell_type": "markdown",
   "source": [
    "## Separate Data Based on Label Values\n",
    "\n",
    "In this cell, the dataset is split into two subsets based on the label values (0 and 1).\n",
    "\n",
    "### Steps:\n",
    "\n",
    "1. **Data Separation**: The dataset is divided into two subsets:\n",
    "   - `data_label_0`: Contains samples with label value 0.\n",
    "   - `data_label_1`: Contains samples with label value 1.\n",
    "\n",
    "2. **Filtering by Label Values**: The DataFrame is filtered based on the 'Class Label' column using boolean indexing. Rows with label value 0 are assigned to `data_label_0`, while rows with label value 1 are assigned to `data_label_1`.\n",
    "\n",
    "The separation allows for the analysis and processing of data subsets based on different label values, facilitating tasks such as correlation analysis, feature engineering, and model training specific to each label category."
   ],
   "metadata": {
    "collapsed": false
   },
   "id": "6881e59e3c9dfeea"
  },
  {
   "cell_type": "code",
   "outputs": [],
   "source": [
    "# Separate the data based on label values (0 and 1)\n",
    "data_label_0 = normalized_df[normalized_df['Class Label'] == 0].drop('Class Label', axis=1)\n",
    "data_label_1 = normalized_df[normalized_df['Class Label'] == 1].drop('Class Label', axis=1)"
   ],
   "metadata": {
    "collapsed": false,
    "ExecuteTime": {
     "end_time": "2024-02-01T09:31:39.106753800Z",
     "start_time": "2024-02-01T09:31:38.939661Z"
    }
   },
   "id": "25dd558c7cdf679d",
   "execution_count": 19
  },
  {
   "cell_type": "code",
   "outputs": [
    {
     "data": {
      "text/plain": "        FEATURE1  FEATURE2  FEATURE3  FEATURE4  FEATURE5  FEATURE6  FEATURE7  \\\n0       0.022653  0.000000  0.003205  0.016667  0.003205       0.0  0.034413   \n1       0.006856  0.000000  0.003205  0.016667  0.003205       0.0  0.030364   \n2       0.000095  0.000000  0.000000  0.000000  0.000000       0.0  0.006073   \n3       0.000126  0.000000  0.003205  0.016667  0.003205       0.0  0.008097   \n4       0.000569  0.000000  0.000000  0.000000  0.000000       0.0  0.018219   \n...          ...       ...       ...       ...       ...       ...       ...   \n298169  0.003128  0.000000  0.000000  0.000000  0.000000       0.0  0.016194   \n298170  0.000474  0.000000  0.003205  0.016667  0.003205       0.0  0.030364   \n298171  0.003475  0.000999  0.000000  0.000000  0.000000       0.0  0.012146   \n298172  0.003065  0.000000  0.000000  0.000000  0.000000       0.0  0.008097   \n298173  0.000663  0.000000  0.000000  0.000000  0.000000       0.0  0.042510   \n\n        FEATURE8  FEATURE9  FEATURE10  ...  FEATURE72  FEATURE73  FEATURE74  \\\n0       0.000000  0.024590   0.009524  ...   0.540774   0.007904   0.021443   \n1       0.000000  0.014344   0.019048  ...   0.391086   0.005227   0.007450   \n2       0.000000  0.006148   0.000000  ...   0.085298   0.000000   0.000363   \n3       0.000000  0.008197   0.000000  ...   0.000000   0.031234   0.050700   \n4       0.000000  0.008197   0.015873  ...   0.085298   0.000255   0.000363   \n...          ...       ...        ...  ...        ...        ...        ...   \n298169  0.000000  0.008197   0.009524  ...   0.295081   0.001657   0.002544   \n298170  0.054545  0.024590   0.000000  ...   0.135193   0.000382   0.000545   \n298171  0.000000  0.008197   0.003175  ...   0.324758   0.003697   0.004543   \n298172  0.000000  0.006148   0.000000  ...   0.341190   0.004972   0.005270   \n298173  0.000000  0.043033   0.000000  ...   0.085298   0.000510   0.001817   \n\n        FEATURE75  FEATURE76     FEATURE77  FEATURE78  FEATURE79  FEATURE80  \\\n0        0.064286   0.000000  1.539966e-08   0.027027   0.014721   0.031818   \n1        0.007143   0.012195  4.599898e-09   0.000000   0.009396   0.018182   \n2        0.000000   0.000000  1.999956e-10   0.000000   0.004134   0.016667   \n3        0.000000   0.000000  0.000000e+00   0.000000   0.000000   0.000000   \n4        0.000000   0.000000  1.999956e-10   0.027027   0.002067   0.016667   \n...           ...        ...           ...        ...        ...        ...   \n298169   0.000000   0.000000  1.999956e-09   0.027027   0.002986   0.016667   \n298170   0.000000   0.000000  3.999911e-10   0.000000   0.012403   0.016667   \n298171   0.000000   0.000000  2.599942e-09   0.054054   0.003498   0.016667   \n298172   0.000000   0.000000  2.999933e-09   0.027027   0.003859   0.016667   \n298173   0.000000   0.000000  1.999956e-10   0.000000   0.041344   0.016667   \n\n        FEATURE81  \n0        0.102041  \n1        0.008163  \n2        0.008163  \n3        0.000000  \n4        0.004082  \n...           ...  \n298169   0.008163  \n298170   0.012245  \n298171   0.004082  \n298172   0.020408  \n298173   0.020408  \n\n[297184 rows x 81 columns]",
      "text/html": "<div>\n<style scoped>\n    .dataframe tbody tr th:only-of-type {\n        vertical-align: middle;\n    }\n\n    .dataframe tbody tr th {\n        vertical-align: top;\n    }\n\n    .dataframe thead th {\n        text-align: right;\n    }\n</style>\n<table border=\"1\" class=\"dataframe\">\n  <thead>\n    <tr style=\"text-align: right;\">\n      <th></th>\n      <th>FEATURE1</th>\n      <th>FEATURE2</th>\n      <th>FEATURE3</th>\n      <th>FEATURE4</th>\n      <th>FEATURE5</th>\n      <th>FEATURE6</th>\n      <th>FEATURE7</th>\n      <th>FEATURE8</th>\n      <th>FEATURE9</th>\n      <th>FEATURE10</th>\n      <th>...</th>\n      <th>FEATURE72</th>\n      <th>FEATURE73</th>\n      <th>FEATURE74</th>\n      <th>FEATURE75</th>\n      <th>FEATURE76</th>\n      <th>FEATURE77</th>\n      <th>FEATURE78</th>\n      <th>FEATURE79</th>\n      <th>FEATURE80</th>\n      <th>FEATURE81</th>\n    </tr>\n  </thead>\n  <tbody>\n    <tr>\n      <th>0</th>\n      <td>0.022653</td>\n      <td>0.000000</td>\n      <td>0.003205</td>\n      <td>0.016667</td>\n      <td>0.003205</td>\n      <td>0.0</td>\n      <td>0.034413</td>\n      <td>0.000000</td>\n      <td>0.024590</td>\n      <td>0.009524</td>\n      <td>...</td>\n      <td>0.540774</td>\n      <td>0.007904</td>\n      <td>0.021443</td>\n      <td>0.064286</td>\n      <td>0.000000</td>\n      <td>1.539966e-08</td>\n      <td>0.027027</td>\n      <td>0.014721</td>\n      <td>0.031818</td>\n      <td>0.102041</td>\n    </tr>\n    <tr>\n      <th>1</th>\n      <td>0.006856</td>\n      <td>0.000000</td>\n      <td>0.003205</td>\n      <td>0.016667</td>\n      <td>0.003205</td>\n      <td>0.0</td>\n      <td>0.030364</td>\n      <td>0.000000</td>\n      <td>0.014344</td>\n      <td>0.019048</td>\n      <td>...</td>\n      <td>0.391086</td>\n      <td>0.005227</td>\n      <td>0.007450</td>\n      <td>0.007143</td>\n      <td>0.012195</td>\n      <td>4.599898e-09</td>\n      <td>0.000000</td>\n      <td>0.009396</td>\n      <td>0.018182</td>\n      <td>0.008163</td>\n    </tr>\n    <tr>\n      <th>2</th>\n      <td>0.000095</td>\n      <td>0.000000</td>\n      <td>0.000000</td>\n      <td>0.000000</td>\n      <td>0.000000</td>\n      <td>0.0</td>\n      <td>0.006073</td>\n      <td>0.000000</td>\n      <td>0.006148</td>\n      <td>0.000000</td>\n      <td>...</td>\n      <td>0.085298</td>\n      <td>0.000000</td>\n      <td>0.000363</td>\n      <td>0.000000</td>\n      <td>0.000000</td>\n      <td>1.999956e-10</td>\n      <td>0.000000</td>\n      <td>0.004134</td>\n      <td>0.016667</td>\n      <td>0.008163</td>\n    </tr>\n    <tr>\n      <th>3</th>\n      <td>0.000126</td>\n      <td>0.000000</td>\n      <td>0.003205</td>\n      <td>0.016667</td>\n      <td>0.003205</td>\n      <td>0.0</td>\n      <td>0.008097</td>\n      <td>0.000000</td>\n      <td>0.008197</td>\n      <td>0.000000</td>\n      <td>...</td>\n      <td>0.000000</td>\n      <td>0.031234</td>\n      <td>0.050700</td>\n      <td>0.000000</td>\n      <td>0.000000</td>\n      <td>0.000000e+00</td>\n      <td>0.000000</td>\n      <td>0.000000</td>\n      <td>0.000000</td>\n      <td>0.000000</td>\n    </tr>\n    <tr>\n      <th>4</th>\n      <td>0.000569</td>\n      <td>0.000000</td>\n      <td>0.000000</td>\n      <td>0.000000</td>\n      <td>0.000000</td>\n      <td>0.0</td>\n      <td>0.018219</td>\n      <td>0.000000</td>\n      <td>0.008197</td>\n      <td>0.015873</td>\n      <td>...</td>\n      <td>0.085298</td>\n      <td>0.000255</td>\n      <td>0.000363</td>\n      <td>0.000000</td>\n      <td>0.000000</td>\n      <td>1.999956e-10</td>\n      <td>0.027027</td>\n      <td>0.002067</td>\n      <td>0.016667</td>\n      <td>0.004082</td>\n    </tr>\n    <tr>\n      <th>...</th>\n      <td>...</td>\n      <td>...</td>\n      <td>...</td>\n      <td>...</td>\n      <td>...</td>\n      <td>...</td>\n      <td>...</td>\n      <td>...</td>\n      <td>...</td>\n      <td>...</td>\n      <td>...</td>\n      <td>...</td>\n      <td>...</td>\n      <td>...</td>\n      <td>...</td>\n      <td>...</td>\n      <td>...</td>\n      <td>...</td>\n      <td>...</td>\n      <td>...</td>\n      <td>...</td>\n    </tr>\n    <tr>\n      <th>298169</th>\n      <td>0.003128</td>\n      <td>0.000000</td>\n      <td>0.000000</td>\n      <td>0.000000</td>\n      <td>0.000000</td>\n      <td>0.0</td>\n      <td>0.016194</td>\n      <td>0.000000</td>\n      <td>0.008197</td>\n      <td>0.009524</td>\n      <td>...</td>\n      <td>0.295081</td>\n      <td>0.001657</td>\n      <td>0.002544</td>\n      <td>0.000000</td>\n      <td>0.000000</td>\n      <td>1.999956e-09</td>\n      <td>0.027027</td>\n      <td>0.002986</td>\n      <td>0.016667</td>\n      <td>0.008163</td>\n    </tr>\n    <tr>\n      <th>298170</th>\n      <td>0.000474</td>\n      <td>0.000000</td>\n      <td>0.003205</td>\n      <td>0.016667</td>\n      <td>0.003205</td>\n      <td>0.0</td>\n      <td>0.030364</td>\n      <td>0.054545</td>\n      <td>0.024590</td>\n      <td>0.000000</td>\n      <td>...</td>\n      <td>0.135193</td>\n      <td>0.000382</td>\n      <td>0.000545</td>\n      <td>0.000000</td>\n      <td>0.000000</td>\n      <td>3.999911e-10</td>\n      <td>0.000000</td>\n      <td>0.012403</td>\n      <td>0.016667</td>\n      <td>0.012245</td>\n    </tr>\n    <tr>\n      <th>298171</th>\n      <td>0.003475</td>\n      <td>0.000999</td>\n      <td>0.000000</td>\n      <td>0.000000</td>\n      <td>0.000000</td>\n      <td>0.0</td>\n      <td>0.012146</td>\n      <td>0.000000</td>\n      <td>0.008197</td>\n      <td>0.003175</td>\n      <td>...</td>\n      <td>0.324758</td>\n      <td>0.003697</td>\n      <td>0.004543</td>\n      <td>0.000000</td>\n      <td>0.000000</td>\n      <td>2.599942e-09</td>\n      <td>0.054054</td>\n      <td>0.003498</td>\n      <td>0.016667</td>\n      <td>0.004082</td>\n    </tr>\n    <tr>\n      <th>298172</th>\n      <td>0.003065</td>\n      <td>0.000000</td>\n      <td>0.000000</td>\n      <td>0.000000</td>\n      <td>0.000000</td>\n      <td>0.0</td>\n      <td>0.008097</td>\n      <td>0.000000</td>\n      <td>0.006148</td>\n      <td>0.000000</td>\n      <td>...</td>\n      <td>0.341190</td>\n      <td>0.004972</td>\n      <td>0.005270</td>\n      <td>0.000000</td>\n      <td>0.000000</td>\n      <td>2.999933e-09</td>\n      <td>0.027027</td>\n      <td>0.003859</td>\n      <td>0.016667</td>\n      <td>0.020408</td>\n    </tr>\n    <tr>\n      <th>298173</th>\n      <td>0.000663</td>\n      <td>0.000000</td>\n      <td>0.000000</td>\n      <td>0.000000</td>\n      <td>0.000000</td>\n      <td>0.0</td>\n      <td>0.042510</td>\n      <td>0.000000</td>\n      <td>0.043033</td>\n      <td>0.000000</td>\n      <td>...</td>\n      <td>0.085298</td>\n      <td>0.000510</td>\n      <td>0.001817</td>\n      <td>0.000000</td>\n      <td>0.000000</td>\n      <td>1.999956e-10</td>\n      <td>0.000000</td>\n      <td>0.041344</td>\n      <td>0.016667</td>\n      <td>0.020408</td>\n    </tr>\n  </tbody>\n</table>\n<p>297184 rows × 81 columns</p>\n</div>"
     },
     "execution_count": 20,
     "metadata": {},
     "output_type": "execute_result"
    }
   ],
   "source": [
    "data_label_0"
   ],
   "metadata": {
    "collapsed": false,
    "ExecuteTime": {
     "end_time": "2024-02-01T09:31:39.173863200Z",
     "start_time": "2024-02-01T09:31:39.103741200Z"
    }
   },
   "id": "a56a067fec28f797",
   "execution_count": 20
  },
  {
   "cell_type": "code",
   "outputs": [
    {
     "data": {
      "text/plain": "        FEATURE1  FEATURE2  FEATURE3  FEATURE4  FEATURE5  FEATURE6  FEATURE7  \\\n82      0.054027  0.000000  0.038462  0.200000  0.038462  0.000000  0.214575   \n533     0.196708  0.000999  0.032051  0.166667  0.035256  0.051724  0.170040   \n1099    0.035386  0.000000  0.009615  0.050000  0.009615  0.017241  0.060729   \n1364    0.098512  0.000000  0.035256  0.150000  0.044872  0.155172  0.093117   \n1392    0.188999  0.018981  0.044872  0.150000  0.048077  0.017241  0.184211   \n...          ...       ...       ...       ...       ...       ...       ...   \n296911  0.136710  0.013986  0.009615  0.033333  0.012821  0.017241  0.042510   \n297208  0.112445  0.271728  0.012821  0.033333  0.012821  0.000000  0.058704   \n297289  0.211494  0.031968  0.009615  0.033333  0.009615  0.000000  0.038462   \n297504  0.073173  0.004995  0.000000  0.000000  0.000000  0.000000  0.018219   \n297577  0.076680  0.001998  0.003205  0.016667  0.003205  0.000000  0.044534   \n\n        FEATURE8  FEATURE9  FEATURE10  ...  FEATURE72  FEATURE73  FEATURE74  \\\n82      0.018182  0.188525   0.038095  ...   0.653227   0.020908   0.032891   \n533     0.072727  0.145492   0.028571  ...   0.812837   0.055456   0.118117   \n1099    0.036364  0.051230   0.006349  ...   0.619038   0.023202   0.065237   \n1364    0.036364  0.079918   0.015873  ...   0.826831   0.064380   0.062511   \n1392    0.018182  0.159836   0.038095  ...   0.720163   0.206655   0.188079   \n...          ...       ...        ...  ...        ...        ...        ...   \n296911  0.018182  0.036885   0.003175  ...   0.857691   0.171469   0.192622   \n297208  0.000000  0.034836   0.034921  ...   0.493136   0.084268   0.004725   \n297289  0.000000  0.034836   0.006349  ...   0.901583   0.904895   0.807741   \n297504  0.000000  0.010246   0.009524  ...   0.305789   0.002422   0.003089   \n297577  0.018182  0.026639   0.022222  ...   0.647618   0.040413   0.055424   \n\n        FEATURE75  FEATURE76     FEATURE77  FEATURE78  FEATURE79  FEATURE80  \\\n82       0.085714   0.012195  1.648383e-01   0.000000   0.109423   0.122222   \n533      0.292857   0.024390  2.923536e-01   0.027027   0.106353   0.162356   \n1099     0.421429   0.024390  6.179863e-08   0.027027   0.044413   0.095960   \n1364     0.092857   0.000000  1.572165e-06   0.081081   0.065752   0.087179   \n1392     0.250000   0.000000  4.658884e-04   0.054054   0.078283   0.160145   \n...           ...        ...           ...        ...        ...        ...   \n296911   0.514286   0.000000  6.238384e-03   0.027027   0.030001   0.045724   \n297208   0.000000   0.000000  2.299949e-08   0.000000   0.027287   0.028333   \n297289   0.128571   0.012195  1.537366e-06   0.027027   0.027086   0.024857   \n297504   0.007143   0.024390  2.399947e-09   0.027027   0.005611   0.023810   \n297577   0.214286   0.012195  4.019911e-08   0.054054   0.014090   0.040613   \n\n        FEATURE81  \n82       0.016327  \n533      0.195918  \n1099     0.273469  \n1364     0.065306  \n1392     0.187755  \n...           ...  \n296911   0.448980  \n297208   0.012245  \n297289   0.163265  \n297504   0.024490  \n297577   0.212245  \n\n[990 rows x 81 columns]",
      "text/html": "<div>\n<style scoped>\n    .dataframe tbody tr th:only-of-type {\n        vertical-align: middle;\n    }\n\n    .dataframe tbody tr th {\n        vertical-align: top;\n    }\n\n    .dataframe thead th {\n        text-align: right;\n    }\n</style>\n<table border=\"1\" class=\"dataframe\">\n  <thead>\n    <tr style=\"text-align: right;\">\n      <th></th>\n      <th>FEATURE1</th>\n      <th>FEATURE2</th>\n      <th>FEATURE3</th>\n      <th>FEATURE4</th>\n      <th>FEATURE5</th>\n      <th>FEATURE6</th>\n      <th>FEATURE7</th>\n      <th>FEATURE8</th>\n      <th>FEATURE9</th>\n      <th>FEATURE10</th>\n      <th>...</th>\n      <th>FEATURE72</th>\n      <th>FEATURE73</th>\n      <th>FEATURE74</th>\n      <th>FEATURE75</th>\n      <th>FEATURE76</th>\n      <th>FEATURE77</th>\n      <th>FEATURE78</th>\n      <th>FEATURE79</th>\n      <th>FEATURE80</th>\n      <th>FEATURE81</th>\n    </tr>\n  </thead>\n  <tbody>\n    <tr>\n      <th>82</th>\n      <td>0.054027</td>\n      <td>0.000000</td>\n      <td>0.038462</td>\n      <td>0.200000</td>\n      <td>0.038462</td>\n      <td>0.000000</td>\n      <td>0.214575</td>\n      <td>0.018182</td>\n      <td>0.188525</td>\n      <td>0.038095</td>\n      <td>...</td>\n      <td>0.653227</td>\n      <td>0.020908</td>\n      <td>0.032891</td>\n      <td>0.085714</td>\n      <td>0.012195</td>\n      <td>1.648383e-01</td>\n      <td>0.000000</td>\n      <td>0.109423</td>\n      <td>0.122222</td>\n      <td>0.016327</td>\n    </tr>\n    <tr>\n      <th>533</th>\n      <td>0.196708</td>\n      <td>0.000999</td>\n      <td>0.032051</td>\n      <td>0.166667</td>\n      <td>0.035256</td>\n      <td>0.051724</td>\n      <td>0.170040</td>\n      <td>0.072727</td>\n      <td>0.145492</td>\n      <td>0.028571</td>\n      <td>...</td>\n      <td>0.812837</td>\n      <td>0.055456</td>\n      <td>0.118117</td>\n      <td>0.292857</td>\n      <td>0.024390</td>\n      <td>2.923536e-01</td>\n      <td>0.027027</td>\n      <td>0.106353</td>\n      <td>0.162356</td>\n      <td>0.195918</td>\n    </tr>\n    <tr>\n      <th>1099</th>\n      <td>0.035386</td>\n      <td>0.000000</td>\n      <td>0.009615</td>\n      <td>0.050000</td>\n      <td>0.009615</td>\n      <td>0.017241</td>\n      <td>0.060729</td>\n      <td>0.036364</td>\n      <td>0.051230</td>\n      <td>0.006349</td>\n      <td>...</td>\n      <td>0.619038</td>\n      <td>0.023202</td>\n      <td>0.065237</td>\n      <td>0.421429</td>\n      <td>0.024390</td>\n      <td>6.179863e-08</td>\n      <td>0.027027</td>\n      <td>0.044413</td>\n      <td>0.095960</td>\n      <td>0.273469</td>\n    </tr>\n    <tr>\n      <th>1364</th>\n      <td>0.098512</td>\n      <td>0.000000</td>\n      <td>0.035256</td>\n      <td>0.150000</td>\n      <td>0.044872</td>\n      <td>0.155172</td>\n      <td>0.093117</td>\n      <td>0.036364</td>\n      <td>0.079918</td>\n      <td>0.015873</td>\n      <td>...</td>\n      <td>0.826831</td>\n      <td>0.064380</td>\n      <td>0.062511</td>\n      <td>0.092857</td>\n      <td>0.000000</td>\n      <td>1.572165e-06</td>\n      <td>0.081081</td>\n      <td>0.065752</td>\n      <td>0.087179</td>\n      <td>0.065306</td>\n    </tr>\n    <tr>\n      <th>1392</th>\n      <td>0.188999</td>\n      <td>0.018981</td>\n      <td>0.044872</td>\n      <td>0.150000</td>\n      <td>0.048077</td>\n      <td>0.017241</td>\n      <td>0.184211</td>\n      <td>0.018182</td>\n      <td>0.159836</td>\n      <td>0.038095</td>\n      <td>...</td>\n      <td>0.720163</td>\n      <td>0.206655</td>\n      <td>0.188079</td>\n      <td>0.250000</td>\n      <td>0.000000</td>\n      <td>4.658884e-04</td>\n      <td>0.054054</td>\n      <td>0.078283</td>\n      <td>0.160145</td>\n      <td>0.187755</td>\n    </tr>\n    <tr>\n      <th>...</th>\n      <td>...</td>\n      <td>...</td>\n      <td>...</td>\n      <td>...</td>\n      <td>...</td>\n      <td>...</td>\n      <td>...</td>\n      <td>...</td>\n      <td>...</td>\n      <td>...</td>\n      <td>...</td>\n      <td>...</td>\n      <td>...</td>\n      <td>...</td>\n      <td>...</td>\n      <td>...</td>\n      <td>...</td>\n      <td>...</td>\n      <td>...</td>\n      <td>...</td>\n      <td>...</td>\n    </tr>\n    <tr>\n      <th>296911</th>\n      <td>0.136710</td>\n      <td>0.013986</td>\n      <td>0.009615</td>\n      <td>0.033333</td>\n      <td>0.012821</td>\n      <td>0.017241</td>\n      <td>0.042510</td>\n      <td>0.018182</td>\n      <td>0.036885</td>\n      <td>0.003175</td>\n      <td>...</td>\n      <td>0.857691</td>\n      <td>0.171469</td>\n      <td>0.192622</td>\n      <td>0.514286</td>\n      <td>0.000000</td>\n      <td>6.238384e-03</td>\n      <td>0.027027</td>\n      <td>0.030001</td>\n      <td>0.045724</td>\n      <td>0.448980</td>\n    </tr>\n    <tr>\n      <th>297208</th>\n      <td>0.112445</td>\n      <td>0.271728</td>\n      <td>0.012821</td>\n      <td>0.033333</td>\n      <td>0.012821</td>\n      <td>0.000000</td>\n      <td>0.058704</td>\n      <td>0.000000</td>\n      <td>0.034836</td>\n      <td>0.034921</td>\n      <td>...</td>\n      <td>0.493136</td>\n      <td>0.084268</td>\n      <td>0.004725</td>\n      <td>0.000000</td>\n      <td>0.000000</td>\n      <td>2.299949e-08</td>\n      <td>0.000000</td>\n      <td>0.027287</td>\n      <td>0.028333</td>\n      <td>0.012245</td>\n    </tr>\n    <tr>\n      <th>297289</th>\n      <td>0.211494</td>\n      <td>0.031968</td>\n      <td>0.009615</td>\n      <td>0.033333</td>\n      <td>0.009615</td>\n      <td>0.000000</td>\n      <td>0.038462</td>\n      <td>0.000000</td>\n      <td>0.034836</td>\n      <td>0.006349</td>\n      <td>...</td>\n      <td>0.901583</td>\n      <td>0.904895</td>\n      <td>0.807741</td>\n      <td>0.128571</td>\n      <td>0.012195</td>\n      <td>1.537366e-06</td>\n      <td>0.027027</td>\n      <td>0.027086</td>\n      <td>0.024857</td>\n      <td>0.163265</td>\n    </tr>\n    <tr>\n      <th>297504</th>\n      <td>0.073173</td>\n      <td>0.004995</td>\n      <td>0.000000</td>\n      <td>0.000000</td>\n      <td>0.000000</td>\n      <td>0.000000</td>\n      <td>0.018219</td>\n      <td>0.000000</td>\n      <td>0.010246</td>\n      <td>0.009524</td>\n      <td>...</td>\n      <td>0.305789</td>\n      <td>0.002422</td>\n      <td>0.003089</td>\n      <td>0.007143</td>\n      <td>0.024390</td>\n      <td>2.399947e-09</td>\n      <td>0.027027</td>\n      <td>0.005611</td>\n      <td>0.023810</td>\n      <td>0.024490</td>\n    </tr>\n    <tr>\n      <th>297577</th>\n      <td>0.076680</td>\n      <td>0.001998</td>\n      <td>0.003205</td>\n      <td>0.016667</td>\n      <td>0.003205</td>\n      <td>0.000000</td>\n      <td>0.044534</td>\n      <td>0.018182</td>\n      <td>0.026639</td>\n      <td>0.022222</td>\n      <td>...</td>\n      <td>0.647618</td>\n      <td>0.040413</td>\n      <td>0.055424</td>\n      <td>0.214286</td>\n      <td>0.012195</td>\n      <td>4.019911e-08</td>\n      <td>0.054054</td>\n      <td>0.014090</td>\n      <td>0.040613</td>\n      <td>0.212245</td>\n    </tr>\n  </tbody>\n</table>\n<p>990 rows × 81 columns</p>\n</div>"
     },
     "execution_count": 21,
     "metadata": {},
     "output_type": "execute_result"
    }
   ],
   "source": [
    "data_label_1"
   ],
   "metadata": {
    "collapsed": false,
    "ExecuteTime": {
     "end_time": "2024-02-01T09:31:39.199890Z",
     "start_time": "2024-02-01T09:31:39.169858800Z"
    }
   },
   "id": "b55419c7878c33c3",
   "execution_count": 21
  },
  {
   "cell_type": "markdown",
   "source": [
    "### ## Sampling Data for Class Label_0\n",
    "\n",
    "This code snippet performs data sampling to address class imbalance in a dataset where `label_0` contains significantly more data compared to other classes.\n",
    "\n",
    "### Code Explanation\n",
    "\n",
    "- The code utilizes the pandas library to handle data operations.\n",
    "- A list `sampled_data_label_0` is initialized to store sampled subsets of data from `label_0`.\n",
    "- A loop iterates 300 times to ensure a sufficient number of samples are drawn to address the class imbalance.\n",
    "- Within each iteration:\n",
    "  - `data_label_0.sample(n=990, random_state=i)` randomly selects 990 rows from the dataset associated with `label_0`.\n",
    "  - The `random_state` parameter ensures reproducibility of the sampling process across iterations.\n",
    "  - The sampled dataset is appended to the list `sampled_data_label_0`.\n",
    "\n",
    "### Purpose\n",
    "\n",
    "- Class imbalance, where one class contains significantly more instances than others, can lead to biased model performance.\n",
    "- Sampling `label_0` 300 times, with 990 samples each time, aims to balance the class distribution for subsequent modeling tasks.\n",
    "\n",
    "### Note\n",
    "\n",
    "- Sampling without replacement ensures that the same instances are not sampled repeatedly within each iteration, preventing duplication of data."
   ],
   "metadata": {
    "collapsed": false
   },
   "id": "a02063946000309"
  },
  {
   "cell_type": "code",
   "outputs": [],
   "source": [
    "sampled_data_label_0 = []\n",
    "\n",
    "for i in range(300):\n",
    "    # Randomly sample 990 rows from each class\n",
    "    temp_data_label_0 = data_label_0.sample(n=990, random_state=i)  # Using the same random_state for both classes\n",
    "\n",
    "    # Append the sampled dataset to the array\n",
    "    sampled_data_label_0.append(temp_data_label_0)"
   ],
   "metadata": {
    "collapsed": false,
    "ExecuteTime": {
     "end_time": "2024-02-01T09:31:43.523553700Z",
     "start_time": "2024-02-01T09:31:39.199890Z"
    }
   },
   "id": "58cc6270dea0b562",
   "execution_count": 22
  },
  {
   "cell_type": "markdown",
   "source": [
    "## K-Means Clustering for Data Label_1\n",
    "\n",
    "This code snippet performs K-Means clustering on the dataset `data_label_1` to partition the data into a specified number of clusters.\n",
    "\n",
    "### Code Explanation\n",
    "\n",
    "- The code imports the KMeans class from the scikit-learn library, which is used for K-Means clustering.\n",
    "- It defines the number of clusters (`num_clusters`) to be used in the clustering process.\n",
    "- A KMeans object `kmeans` is initialized with the specified number of clusters and a fixed random state for reproducibility.\n",
    "- The KMeans model is fitted to the data `data_label_1` using the `fit()` method.\n",
    "- Cluster labels are assigned to each data point using the `labels_` attribute of the KMeans object.\n",
    "- The cluster labels are added as a new column, 'Cluster Labels', to the DataFrame `data_label_1`.\n",
    "- The counts of data points in each cluster are printed to evaluate the distribution of data across clusters.\n",
    "- Optionally, the centroids of the clusters are computed and printed for further analysis.\n",
    "\n",
    "### Purpose\n",
    "\n",
    "- K-Means clustering is a popular unsupervised learning technique used for grouping data points into clusters based on similarity.\n",
    "- The code aims to identify distinct clusters within the dataset `data_label_1`, providing insights into the underlying structure of the data.\n",
    "\n",
    "### Note\n",
    "\n",
    "- The choice of the number of clusters (`num_clusters`) is a critical parameter that may impact the quality of clustering results.\n",
    "- Evaluation of cluster characteristics, such as cluster sizes and centroids, can aid in understanding the properties and relationships within the data.\n",
    "- Interpretation of clustering results should be done in conjunction with domain knowledge and other exploratory data analysis techniques."
   ],
   "metadata": {
    "collapsed": false
   },
   "id": "a1b9802657132e66"
  },
  {
   "cell_type": "code",
   "outputs": [
    {
     "name": "stdout",
     "output_type": "stream",
     "text": [
      "Cluster Labels\n",
      "1    111981\n",
      "2     95418\n",
      "3     56260\n",
      "0     34515\n",
      "Name: count, dtype: int64\n",
      "Centroids:\n",
      "[[ 7.75635410e-02  1.02443012e-02  7.57045984e-03  3.61157025e-02\n",
      "   8.73066328e-03  5.95611285e-03  5.97082343e-02  3.63335838e-02\n",
      "   3.80537867e-02  2.49298177e-02  4.24743301e-02  1.27740144e-01\n",
      "   3.75160347e-03  2.70243418e-02  9.83339571e-03  1.62999395e-01\n",
      "   2.22868041e-02  1.70070838e-01  1.29739098e-01  4.57352253e-02\n",
      "   3.54124435e-02  1.55005635e-02  1.23347631e-01  1.96306062e-01\n",
      "   4.50257733e-02  1.87598357e-01  2.93746759e-02  1.53295612e-01\n",
      "   1.33669597e-01  1.39777340e-01  1.75242784e-01  1.20086156e-01\n",
      "   2.17772581e-02  5.73199528e-02  2.46392602e-02  6.02846648e-02\n",
      "   1.47257701e-01  2.41794569e-01  9.12396694e-01  1.49870782e-02\n",
      "   8.83456264e-02  1.08410849e-01  7.98048804e-02  7.03864141e-02\n",
      "   5.20054157e-01  6.61798003e-02  6.27659955e-02  1.10690083e-01\n",
      "   1.23095003e-01  1.70337214e-01  1.07732175e-01  8.71479349e-03\n",
      "   8.73395206e-03  4.82344102e-03  7.01146361e-03  8.01990765e-03\n",
      "   7.25183171e-03  5.58743262e-03  7.74924155e-03  7.07463132e-03\n",
      "   5.29215601e-03  9.33769513e-03  1.22049469e-01  7.28009472e-01\n",
      "   1.11326446e-01  6.64543275e-02  4.56305142e-03  2.68928775e-03\n",
      "   1.56223941e-02  3.29695287e-02  1.42584523e-01  6.64108458e-01\n",
      "   6.69963040e-02  7.27173608e-02  1.61062574e-01  2.31404959e-02\n",
      "   1.04999647e-02  4.93634130e-02  2.55793409e-02  5.44230213e-02\n",
      "   1.34518469e-01]\n",
      " [ 1.79126590e-01  1.33527187e-02  1.46233974e-02  6.33928571e-02\n",
      "   1.72275641e-02  1.12376847e-02  5.81803065e-02  2.35389610e-02\n",
      "   5.14673595e-02  6.71768707e-03  3.89610390e-02  4.80532787e-01\n",
      "   1.59033079e-04  1.71740827e-02  1.23983651e-02  4.99063589e-01\n",
      "   2.29145854e-02  4.92283163e-01  4.81136642e-01  2.15633423e-02\n",
      "   9.30761456e-02  1.71393060e-01  2.92518083e-01  2.65244213e-01\n",
      "   1.54220494e-01  4.46123824e-01  1.19493702e-01  1.22236355e-01\n",
      "   5.23098855e-01  5.40375164e-01  4.48328267e-01  5.32778352e-01\n",
      "   9.87525838e-02  1.80867347e-01  1.07078261e-01  1.44990079e-01\n",
      "   1.51785714e-01  3.72448980e-01  8.64732143e-01  2.83741121e-03\n",
      "   4.16468254e-01  4.57220894e-01  3.83249683e-01  2.28501150e-01\n",
      "   8.48573974e-01  3.86717748e-01  1.63300409e-01  4.80357143e-01\n",
      "   3.91136959e-02  6.01832741e-01  7.55334443e-02  1.73472348e-18\n",
      "  -8.67361738e-19 -8.67361738e-19  1.73472348e-18  1.73472348e-18\n",
      "   0.00000000e+00 -4.33680869e-19  8.67361738e-19  8.67361738e-19\n",
      "   8.67361738e-19  9.45560516e-03  5.93989224e-01  9.07256620e-01\n",
      "   4.80357143e-01  2.68798899e-01  2.55663940e-03  2.45175163e-03\n",
      "   1.55380334e-02  1.12118321e-01  4.28571429e-01  8.73491665e-01\n",
      "   4.00368571e-01  3.89479115e-01  4.64221939e-01  8.05749129e-03\n",
      "   6.62205757e-02  2.75096525e-02  4.01833564e-02  6.48146937e-02\n",
      "   4.82543732e-01]\n",
      " [ 9.14879692e-02  1.44084487e-01  9.15750916e-03  2.80952381e-02\n",
      "   1.04395604e-02  4.92610837e-04  5.74320416e-02  1.50649351e-02\n",
      "   3.30210773e-02  3.71882086e-02  3.46320346e-03  1.86182670e-02\n",
      "   4.33680869e-19  9.69555035e-02  9.09949292e-02  2.04878049e-02\n",
      "   0.00000000e+00  5.98639456e-02  3.58671286e-02  5.66037736e-03\n",
      "   5.03144654e-03  4.05844156e-04  6.02531646e-02  9.92760273e-02\n",
      "   2.51197853e-02  1.80171086e-01  1.79947356e-02  4.09595404e-01\n",
      "   8.38266138e-02  8.20096112e-02  1.57516283e-01  5.28155023e-02\n",
      "   1.35507579e-02  2.32653061e-02  1.53422141e-02  3.19047619e-02\n",
      "   9.35064935e-02  1.45578231e-01  0.00000000e+00  9.45540647e-02\n",
      "   3.52278546e-02  3.65411437e-02  3.32544379e-02  2.42439731e-02\n",
      "   3.07091193e-01  2.17696845e-02  8.43989654e-02  3.75000000e-02\n",
      "   5.11140236e-02  4.00901421e-01  1.96791768e-01  0.00000000e+00\n",
      "   0.00000000e+00  4.33680869e-19  0.00000000e+00  0.00000000e+00\n",
      "   8.67361738e-19  0.00000000e+00 -8.67361738e-19  0.00000000e+00\n",
      "   4.33680869e-19  8.82936508e-03  3.74435677e-02  5.05557207e-01\n",
      "   3.75000000e-02  4.05679513e-03  4.61506188e-04  3.35640864e-04\n",
      "   4.25288997e-03  0.00000000e+00  3.68571429e-01  5.24420746e-01\n",
      "   5.92554819e-02  1.63495236e-02  3.77551020e-02  4.87804878e-03\n",
      "   2.00209837e-06  1.23552124e-02  2.42914030e-02  3.80615070e-02\n",
      "   1.92419825e-02]\n",
      " [ 1.31063205e-01  2.33673889e-02  3.95792933e-02  1.51260504e-01\n",
      "   4.77133161e-02  6.91828456e-02  1.38749022e-01  6.97478992e-02\n",
      "   1.18998829e-01  2.40362812e-02  3.90883626e-02  1.42702163e-01\n",
      "   5.23873672e-04  3.81365661e-02  1.91209899e-02  1.40643575e-01\n",
      "   2.82364694e-02  1.51530612e-01  1.11587288e-01  2.27524972e-02\n",
      "   5.72115639e-02  1.38941940e-02  9.91064780e-02  1.98753591e-01\n",
      "   1.07635688e-01  3.22583405e-01  8.39840768e-02  1.15886949e-01\n",
      "   3.23776166e-01  3.34654229e-01  3.10755792e-01  3.19574277e-01\n",
      "   9.55544597e-02  2.19887955e-01  1.30667540e-01  3.23529412e-01\n",
      "   1.38655462e-01  4.20368147e-01  8.88655462e-01  4.16453874e-03\n",
      "   2.57079606e-01  2.68360622e-01  2.52133161e-01  1.67267981e-01\n",
      "   5.31696409e-01  1.91967775e-01  1.04237632e-01  1.20472689e-01\n",
      "   6.61475599e-02  4.22537815e-01  1.01908560e-01 -3.46944695e-18\n",
      "  -1.73472348e-18  1.73472348e-18  8.67361738e-19  1.73472348e-18\n",
      "   3.46944695e-18 -1.73472348e-18  2.60208521e-18 -4.33680869e-18\n",
      "  -1.73472348e-18  9.80392157e-03  3.21597724e-01  8.19743365e-01\n",
      "   1.20472689e-01  3.36304907e-02  1.11119338e-02  1.00383766e-02\n",
      "   2.17387654e-02  2.09656382e-02  2.52253629e-01  8.11715637e-01\n",
      "   1.07408542e-01  1.04083792e-01  1.98469388e-01  2.10084034e-02\n",
      "   1.49717247e-01  5.46218487e-02  9.05702657e-02  1.11644229e-01\n",
      "   1.42462699e-01]]\n"
     ]
    }
   ],
   "source": [
    "from sklearn.cluster import KMeans\n",
    "\n",
    "# Define the number of clusters\n",
    "num_clusters = 4  # You can choose any number of clusters you want\n",
    "\n",
    "# Initialize KMeans object\n",
    "kmeans = KMeans(n_clusters=num_clusters, random_state=42)\n",
    "\n",
    "# Fit the KMeans model to the data\n",
    "kmeans.fit(data_label_1)\n",
    "\n",
    "# Get the cluster labels for each data point\n",
    "cluster_labels = kmeans.labels_\n",
    "\n",
    "# Add the cluster labels to the DataFrame\n",
    "data_label_1['Cluster Labels'] = cluster_labels\n",
    "\n",
    "# Print the counts of data points in each cluster\n",
    "print(data_for_clustering['Cluster Labels'].value_counts())\n",
    "\n",
    "# If you want to see the centroids of the clusters\n",
    "centroids = kmeans.cluster_centers_\n",
    "print(\"Centroids:\")\n",
    "print(centroids)"
   ],
   "metadata": {
    "collapsed": false,
    "ExecuteTime": {
     "end_time": "2024-02-01T09:31:43.606525800Z",
     "start_time": "2024-02-01T09:31:43.527553700Z"
    }
   },
   "id": "cd2575525a07dfaa",
   "execution_count": 23
  },
  {
   "cell_type": "markdown",
   "source": [
    "## K-Means Feature Importance Analysis\n",
    "\n",
    "This code snippet utilizes the `KMeansInterp` class from the `kmeans_interp.kmeans_feature_imp` module to perform feature importance analysis using K-Means clustering.\n",
    "\n",
    "### Code Explanation\n",
    "\n",
    "- The code initializes a `KMeansInterp` object `kms` for feature importance analysis.\n",
    "- The number of clusters (`n_clusters`) is set to 3.\n",
    "- The `ordered_feature_names` parameter is set to the list of column names of the DataFrame `X` using `X.columns.tolist()`.\n",
    "- Feature importance calculation method is specified using the `feature_importance_method` parameter. Options include `'wcss_min'` or `'unsup2sup'`.\n",
    "- The `fit()` method is called to fit the KMeansInterp model to the data represented by the values of DataFrame `X`.\n",
    "- Feature importances are accessed using the `feature_importances_` attribute of the `kms` object, where each key corresponds to a cluster label, and the values contain the feature importances.\n",
    "\n",
    "### Purpose\n",
    "\n",
    "- Feature importance analysis using K-Means clustering helps identify significant features that contribute to the formation of clusters.\n",
    "- By analyzing feature importances, insights into the underlying structure of the data and the characteristics of each cluster can be gained.\n",
    "\n",
    "### Note\n",
    "\n",
    "- Choosing the appropriate feature importance method (`'wcss_min'` or `'unsup2sup'`) depends on the nature of the data and the problem at hand.\n",
    "- Interpretation of feature importances should be done in conjunction with domain knowledge and other exploratory data analysis techniques."
   ],
   "metadata": {
    "collapsed": false
   },
   "id": "49fa12413a76fc4d"
  },
  {
   "cell_type": "code",
   "outputs": [],
   "source": [
    "from kmeans_interp.kmeans_feature_imp import KMeansInterp\n",
    "\n",
    "X = data_label_1\n",
    "\n",
    "kms = KMeansInterp(\n",
    "    n_clusters=3,\n",
    "    ordered_feature_names=X.columns.tolist(),\n",
    "    feature_importance_method='wcss_min',  # or 'unsup2sup'\n",
    ").fit(X.values)\n",
    "\n",
    "# A dictionary where the key [0] is the cluster label, and [:10] will refer to the first 10 most important features\n",
    "sorted_features_1 = kms.feature_importances_[0][:]  # Features here are words"
   ],
   "metadata": {
    "collapsed": false,
    "ExecuteTime": {
     "end_time": "2024-02-01T09:31:43.638185100Z",
     "start_time": "2024-02-01T09:31:43.559761400Z"
    }
   },
   "id": "74cc9b605414c7d8",
   "execution_count": 24
  },
  {
   "cell_type": "markdown",
   "source": [
    "## K-Means Clustering for Sampled Data Label_0\n",
    "\n",
    "This code snippet performs K-Means clustering on sampled datasets associated with `label_0` to partition the data into a specified number of clusters.\n",
    "\n",
    "### Code Explanation\n",
    "\n",
    "- The code imports the KMeans class from the scikit-learn library, which is used for K-Means clustering.\n",
    "- It defines the number of clusters (`num_clusters`) to be used in the clustering process.\n",
    "- A loop iterates 300 times to ensure a sufficient number of clustering runs with different random states.\n",
    "- Within each iteration:\n",
    "  - A KMeans object `kmeans` is initialized with the specified number of clusters and a unique random state for reproducibility.\n",
    "  - The KMeans model is fitted to the sampled dataset `sampled_data_label_0[i]` using the `fit()` method.\n",
    "  - Cluster labels are assigned to each data point using the `labels_` attribute of the KMeans object.\n",
    "  - The cluster labels are added as a new column, 'Cluster Labels', to the DataFrame `sampled_data_label_0[i]`.\n",
    "\n",
    "### Purpose\n",
    "\n",
    "- K-Means clustering is utilized to identify natural groupings within the sampled datasets associated with `label_0`.\n",
    "- The clustering process helps in understanding the distribution and characteristics of data points within each cluster.\n",
    "\n",
    "### Note\n",
    "\n",
    "- The use of different random states ensures variability in the initialization of centroids during clustering runs.\n",
    "- Evaluation of clustering results and interpretation of cluster characteristics can provide insights into underlying patterns within the data."
   ],
   "metadata": {
    "collapsed": false
   },
   "id": "3222bfc157f9ebe6"
  },
  {
   "cell_type": "code",
   "outputs": [],
   "source": [
    "from sklearn.cluster import KMeans\n",
    "\n",
    "# Assuming you have already loaded your DataFrame 'normalized_df' without the 'Class Labels' column\n",
    "\n",
    "# Define the number of clusters\n",
    "num_clusters = 3  # You can choose any number of clusters you want\n",
    "\n",
    "for i in range(300):\n",
    "    # Initialize KMeans object\n",
    "    kmeans = KMeans(n_clusters=num_clusters, random_state=i)\n",
    "\n",
    "    # Fit the KMeans model to the data\n",
    "    kmeans.fit(sampled_data_label_0[i])\n",
    "\n",
    "    # Get the cluster labels for each data point\n",
    "    cluster_labels = kmeans.labels_\n",
    "\n",
    "    # Add the cluster labels to the DataFrame\n",
    "    sampled_data_label_0[i]['Cluster Labels'] = cluster_labels"
   ],
   "metadata": {
    "collapsed": false,
    "ExecuteTime": {
     "end_time": "2024-02-01T09:31:45.667821400Z",
     "start_time": "2024-02-01T09:31:43.574336200Z"
    }
   },
   "id": "51700a5e3761995b",
   "execution_count": 25
  },
  {
   "cell_type": "markdown",
   "source": [
    "## Accumulating Feature Importance Values from K-Means Clustering\n",
    "\n",
    "This code snippet accumulates feature importance values obtained from K-Means clustering applied to sampled datasets associated with `label_0`. The process is repeated 300 times to ensure robustness in feature importance estimation.\n",
    "\n",
    "### Code Explanation\n",
    "\n",
    "- The code imports the `defaultdict` class from the `collections` module to create a dictionary that initializes lists for each key automatically.\n",
    "- An empty dictionary `feature_importance_accumulator` is created to store feature importance values.\n",
    "- A loop iterates 300 times to repeat the feature importance estimation process.\n",
    "- Within each iteration:\n",
    "  - A KMeansInterp object `kms` is initialized with specified parameters, and K-Means clustering is performed on the sampled dataset `sampled_data_label_0[i]`.\n",
    "  - Feature importance values are accumulated in the `feature_importance_accumulator` dictionary.\n",
    "- After the loop, mean importance values for each feature are calculated by averaging importance values across all iterations.\n",
    "- Features are sorted based on their mean importance values in descending order.\n",
    "- The sorted features can be printed or further processed as needed.\n",
    "\n",
    "### Purpose\n",
    "\n",
    "- By accumulating feature importance values over multiple iterations of K-Means clustering, the code aims to provide more reliable estimates of feature importance.\n",
    "- Sorting features based on their mean importance values enables identification of the most influential features in the dataset.\n",
    "\n",
    "### Note\n",
    "\n",
    "- The choice of K-Means clustering parameters (e.g., number of clusters, feature importance method) may influence the feature importance estimation process.\n",
    "- Interpretation of feature importance values should be done in conjunction with domain knowledge and other exploratory data analysis techniques.\n",
    "- Further analysis or visualization of the sorted features can aid in understanding the underlying patterns and characteristics of the dataset."
   ],
   "metadata": {
    "collapsed": false
   },
   "id": "2e2ea4171614ae5d"
  },
  {
   "cell_type": "code",
   "outputs": [
    {
     "name": "stdout",
     "output_type": "stream",
     "text": [
      "Cluster Labels: 0.9645745960880614\n",
      "FEATURE45: 0.6463091918997836\n",
      "FEATURE39: 0.30345315083369667\n",
      "FEATURE64: 0.293635185139682\n",
      "FEATURE72: 0.2663656724367373\n",
      "FEATURE71: 0.22778755086502828\n",
      "FEATURE37: 0.1889439581185886\n",
      "FEATURE50: 0.1839635607199297\n",
      "FEATURE38: 0.06768197437598508\n",
      "FEATURE51: 0.04865048124569514\n",
      "FEATURE66: 0.04411170518055871\n",
      "FEATURE19: 0.041054625091754386\n",
      "FEATURE80: 0.03358745052078247\n",
      "FEATURE7: 0.02426830237103343\n",
      "FEATURE78: 0.023764734589507747\n",
      "FEATURE81: 0.02150189438872681\n",
      "FEATURE9: 0.018706655901860225\n",
      "FEATURE12: 0.018277370765849746\n",
      "FEATURE75: 0.017134988440245316\n",
      "FEATURE62: 0.016356222840423495\n",
      "FEATURE16: 0.0157092237512383\n",
      "FEATURE18: 0.014179379884995862\n",
      "FEATURE23: 0.013942142647128826\n",
      "FEATURE4: 0.013911196320730639\n",
      "FEATURE26: 0.012764437281922565\n",
      "FEATURE79: 0.011888976792834837\n",
      "FEATURE11: 0.011861029368831464\n",
      "FEATURE65: 0.01169239865869341\n",
      "FEATURE48: 0.011691954216463829\n",
      "FEATURE31: 0.011372086052116941\n",
      "FEATURE40: 0.011032439086015207\n",
      "FEATURE49: 0.010368130248465614\n",
      "FEATURE24: 0.010227337503226096\n",
      "FEATURE8: 0.008907182244654017\n",
      "FEATURE34: 0.008065867622182263\n",
      "FEATURE30: 0.008014302172023846\n",
      "FEATURE36: 0.00737007325181399\n",
      "FEATURE29: 0.007313669140133072\n",
      "FEATURE63: 0.007180957417018967\n",
      "FEATURE10: 0.00675354379163565\n",
      "FEATURE42: 0.006649333263649402\n",
      "FEATURE32: 0.0064215002189566646\n",
      "FEATURE28: 0.0064096351489155495\n",
      "FEATURE74: 0.005797007402145699\n",
      "FEATURE41: 0.005344460591966434\n",
      "FEATURE70: 0.00528522995512936\n",
      "FEATURE44: 0.005036328077858315\n",
      "FEATURE43: 0.004776907899721129\n",
      "FEATURE73: 0.0043796875047351904\n",
      "FEATURE46: 0.00428507716918636\n",
      "FEATURE1: 0.00402290074264359\n",
      "FEATURE20: 0.003996230771695241\n",
      "FEATURE76: 0.003988666091174341\n",
      "FEATURE13: 0.0035586169374327414\n",
      "FEATURE35: 0.0034127548552630315\n",
      "FEATURE5: 0.003364479281724656\n",
      "FEATURE47: 0.003346926859819106\n",
      "FEATURE6: 0.0033100142778105905\n",
      "FEATURE33: 0.002935864545619624\n",
      "FEATURE3: 0.0028742144379271407\n",
      "FEATURE14: 0.002810807031487829\n",
      "FEATURE25: 0.00256075128706249\n",
      "FEATURE17: 0.0020976840565451525\n",
      "FEATURE59: 0.001699286590400092\n",
      "FEATURE61: 0.0016736226852157971\n",
      "FEATURE69: 0.0016486161858221132\n",
      "FEATURE21: 0.0016278163442672736\n",
      "FEATURE27: 0.0015347229804270766\n",
      "FEATURE52: 0.0015206395659654603\n",
      "FEATURE53: 0.0014689283872465254\n",
      "FEATURE22: 0.0014401907579707019\n",
      "FEATURE56: 0.0014263293168791922\n",
      "FEATURE60: 0.0013684539945563467\n",
      "FEATURE54: 0.0013395156432959886\n",
      "FEATURE58: 0.0011333059409623274\n",
      "FEATURE57: 0.001060910420079935\n",
      "FEATURE55: 0.0010560516824665326\n",
      "FEATURE67: 0.0007876581387872411\n",
      "FEATURE2: 0.0007163784402626584\n",
      "FEATURE15: 0.0007048256882443417\n",
      "FEATURE68: 0.0005799766112026248\n",
      "FEATURE77: 0.0001519355375359961\n"
     ]
    }
   ],
   "source": [
    "from collections import defaultdict\n",
    "\n",
    "# Create an empty dictionary to store feature importance values\n",
    "feature_importance_accumulator = defaultdict(list)\n",
    "\n",
    "# Repeat the process 300 times\n",
    "for i in range(300):\n",
    "    X = sampled_data_label_0[i]\n",
    "\n",
    "    kms = KMeansInterp(\n",
    "        n_clusters=3,\n",
    "        ordered_feature_names=X.columns.tolist(),\n",
    "        feature_importance_method='wcss_min',  # or 'unsup2sup'\n",
    "    ).fit(X.values)\n",
    "\n",
    "    # Accumulate feature importance values in the dictionary\n",
    "    for feature, importance in kms.feature_importances_[0][:]:\n",
    "        feature_importance_accumulator[feature].append(importance)\n",
    "\n",
    "# Calculate the mean importance for each feature\n",
    "mean_importance = {feature: sum(importances) / len(importances) for feature, importances in\n",
    "                   feature_importance_accumulator.items()}\n",
    "\n",
    "# Sort the features by mean importance values\n",
    "sorted_features_0 = sorted(mean_importance.items(), key=lambda x: x[1], reverse=True)\n",
    "\n",
    "# Print or do whatever you need with the sorted features\n",
    "for feature, importance in sorted_features_0:\n",
    "    print(f\"{feature}: {importance}\")"
   ],
   "metadata": {
    "collapsed": false,
    "ExecuteTime": {
     "end_time": "2024-02-01T09:31:46.970187300Z",
     "start_time": "2024-02-01T09:31:45.677849Z"
    }
   },
   "id": "105ebf1a06a19b79",
   "execution_count": 26
  },
  {
   "cell_type": "markdown",
   "source": [
    "## Unifying Feature Importance Lists with Weighted Mean\n",
    "\n",
    "This code snippet unifies two feature importance lists obtained from different sources using a weighted mean approach.\n",
    "\n",
    "### Code Explanation\n",
    "\n",
    "- The code creates dictionaries `feature_values_0` and `feature_values_1` to store feature importance values for each feature obtained from two different sources.\n",
    "- A set `common_labels` is computed to identify common feature labels present in both dictionaries.\n",
    "- A list `unified_results` is initialized to store the unified feature importance results.\n",
    "- The total number of data points is calculated as the sum of the lengths of the datasets `data_label_0` and `data_label_1`.\n",
    "- Iterating through common feature labels, the code calculates the weighted mean by considering the importance values from both sources.\n",
    "- The weighted mean is computed based on the proportion of data points represented by each source.\n",
    "- Unified results are sorted based on the computed weighted mean in descending order.\n",
    "- The sorted unified results are printed to display the unified feature importance values.\n",
    "\n",
    "### Purpose\n",
    "\n",
    "- Unifying feature importance lists from different sources allows for a comprehensive understanding of feature importance across various contexts or models.\n",
    "- The weighted mean approach ensures that feature importance values are aggregated in a manner that accounts for the contribution of each source proportional to the number of data points it represents.\n",
    "\n",
    "### Note\n",
    "\n",
    "- Consistency in feature labels and importance value representations across sources is essential for accurate unification.\n",
    "- The weighted mean approach assumes that the importance values from each source are directly comparable and can be combined linearly.\n",
    "- Interpretation of unified feature importance values should consider the context and characteristics of the data and the sources providing the importance values."
   ],
   "metadata": {
    "collapsed": false
   },
   "id": "df10f0daa3ff8761"
  },
  {
   "cell_type": "code",
   "outputs": [
    {
     "name": "stdout",
     "output_type": "stream",
     "text": [
      "Sorted Unified Results:\n",
      "Cluster Labels: 0.9646922158331527\n",
      "FEATURE45: 0.6469807532516343\n",
      "FEATURE39: 0.3053167143975996\n",
      "FEATURE64: 0.2956725365528068\n",
      "FEATURE72: 0.26838145762622256\n",
      "FEATURE71: 0.22845419530394423\n",
      "FEATURE37: 0.18882058498278687\n",
      "FEATURE50: 0.18535097373608997\n",
      "FEATURE38: 0.06869386453127592\n",
      "FEATURE51: 0.04873973830175499\n",
      "FEATURE66: 0.04485771362446207\n",
      "FEATURE19: 0.042515789365890774\n",
      "FEATURE80: 0.03369113149480489\n",
      "FEATURE7: 0.0243808973126544\n",
      "FEATURE78: 0.023777168499710996\n",
      "FEATURE81: 0.023032649649131147\n",
      "FEATURE12: 0.01981215536128128\n",
      "FEATURE9: 0.018815428284922088\n",
      "FEATURE75: 0.018619410558981062\n",
      "FEATURE16: 0.017314061267077865\n",
      "FEATURE62: 0.016333311347453364\n",
      "FEATURE18: 0.01576678437212924\n",
      "FEATURE23: 0.014867072993604897\n",
      "FEATURE26: 0.01420328101958613\n",
      "FEATURE4: 0.014075485776598371\n",
      "FEATURE65: 0.013248463562932094\n",
      "FEATURE48: 0.013248020596343606\n",
      "FEATURE31: 0.012822871900684676\n",
      "FEATURE79: 0.01198292004683651\n",
      "FEATURE11: 0.011951007064728106\n",
      "FEATURE24: 0.011074046830852429\n",
      "FEATURE40: 0.011005229880653056\n",
      "FEATURE49: 0.010463571534532604\n",
      "FEATURE30: 0.009781851499055798\n",
      "FEATURE63: 0.009129283507833132\n",
      "FEATURE29: 0.009026183759655951\n",
      "FEATURE8: 0.008955762808373067\n",
      "FEATURE34: 0.008639604649969487\n",
      "FEATURE32: 0.008169114979462481\n",
      "FEATURE42: 0.008145325017008173\n",
      "FEATURE36: 0.007827000435445469\n",
      "FEATURE74: 0.00707091219198909\n",
      "FEATURE28: 0.006794204065931306\n",
      "FEATURE10: 0.006753424739841605\n",
      "FEATURE41: 0.006709477513101491\n",
      "FEATURE43: 0.006033516615968962\n",
      "FEATURE44: 0.005778277992054624\n",
      "FEATURE73: 0.005694453361999723\n",
      "FEATURE70: 0.005639938144807206\n",
      "FEATURE46: 0.005554833567335256\n",
      "FEATURE1: 0.00460428159009778\n",
      "FEATURE20: 0.00405455725365175\n",
      "FEATURE76: 0.004002175441238545\n",
      "FEATURE47: 0.0038780058515126645\n",
      "FEATURE35: 0.003756946003547111\n",
      "FEATURE13: 0.0035473296084906915\n",
      "FEATURE5: 0.0034105076207905406\n",
      "FEATURE6: 0.0033363358006353204\n",
      "FEATURE33: 0.0032539960798663625\n",
      "FEATURE25: 0.00306429333064513\n",
      "FEATURE3: 0.0029132241811240345\n",
      "FEATURE14: 0.002858496108869498\n",
      "FEATURE17: 0.0021668005199003072\n",
      "FEATURE22: 0.002004469805150854\n",
      "FEATURE21: 0.001931443910440751\n",
      "FEATURE27: 0.001926371446461346\n",
      "FEATURE69: 0.00169473195392148\n",
      "FEATURE59: 0.0016936446037597542\n",
      "FEATURE61: 0.001668065908104568\n",
      "FEATURE52: 0.0015155907247844525\n",
      "FEATURE53: 0.0014640512379867844\n",
      "FEATURE56: 0.0014215936054365096\n",
      "FEATURE60: 0.0013639104412800358\n",
      "FEATURE54: 0.0013350681713941359\n",
      "FEATURE58: 0.0011295431283711802\n",
      "FEATURE57: 0.001057387975749178\n",
      "FEATURE55: 0.001052545370160155\n",
      "FEATURE67: 0.0007935315262874545\n",
      "FEATURE2: 0.0007583337310220905\n",
      "FEATURE15: 0.0007436506831011825\n",
      "FEATURE68: 0.0005861912954621922\n",
      "FEATURE77: 0.0003712972316418213\n"
     ]
    }
   ],
   "source": [
    "# Create dictionaries to store values for each feature\n",
    "feature_values_0 = {label: value for label, value in sorted_features_0}\n",
    "feature_values_1 = {label: value for label, value in sorted_features_1}\n",
    "\n",
    "# Get the set of common feature labels\n",
    "common_labels = set(feature_values_0.keys()) & set(feature_values_1.keys())\n",
    "\n",
    "# Initialize a list to store unified results\n",
    "unified_results = []\n",
    "\n",
    "# Calculate the total number of data points\n",
    "total_data_points = len(data_label_0) + len(data_label_1)\n",
    "\n",
    "# Iterate through common feature labels and calculate weighted mean\n",
    "for label in common_labels:\n",
    "    # Check if values exist for the feature in both sets\n",
    "    if label in feature_values_0 and label in feature_values_1:\n",
    "        # Calculate the weighted mean\n",
    "        weighted_mean = ((feature_values_0[label] * len(data_label_0)) + (\n",
    "                feature_values_1[label] * len(data_label_1))) / total_data_points\n",
    "        unified_results.append((label, weighted_mean))\n",
    "\n",
    "# Sort unified results based on weighted mean in descending order\n",
    "sorted_results = sorted(unified_results, key=lambda x: x[1], reverse=True)\n",
    "\n",
    "# Print sorted unified results\n",
    "print(\"Sorted Unified Results:\")\n",
    "for label, weighted_mean in sorted_results:\n",
    "    print(f\"{label}: {weighted_mean}\")"
   ],
   "metadata": {
    "collapsed": false,
    "ExecuteTime": {
     "end_time": "2024-02-01T09:31:46.993597Z",
     "start_time": "2024-02-01T09:31:46.970187300Z"
    }
   },
   "id": "793f8bc135f024e7",
   "execution_count": 27
  },
  {
   "cell_type": "markdown",
   "source": [
    "# Part 4.3 "
   ],
   "metadata": {
    "collapsed": false
   },
   "id": "54316c35c64f0f18"
  },
  {
   "cell_type": "markdown",
   "source": [
    "## BIRCH Clustering for DataFrame Analysis\n",
    "\n",
    "This code snippet utilizes the BIRCH (Balanced Iterative Reducing and Clustering using Hierarchies) clustering algorithm to partition data stored in the DataFrame `normalized_df` into clusters.\n",
    "\n",
    "### Code Explanation\n",
    "\n",
    "- The code imports the Birch class from the scikit-learn library, which is used for BIRCH clustering.\n",
    "- A BIRCH model `birch` is initialized with specified parameters such as the threshold and the number of clusters.\n",
    "- The `threshold` parameter controls the maximum radius of each subcluster, affecting the granularity of clustering.\n",
    "- The `n_clusters` parameter determines the maximum number of clusters. Setting it to `None` allows BIRCH to determine the number of clusters automatically.\n",
    "- BIRCH clustering is performed on the data in `normalized_df` using the `fit_predict()` method, which returns cluster labels for each data point.\n",
    "- Cluster labels are stored in the variable `cluster_labels` for further analysis or visualization.\n",
    "\n",
    "### Purpose\n",
    "\n",
    "- BIRCH clustering is suitable for large datasets and can efficiently handle data with varying densities and shapes.\n",
    "- The code aims to identify clusters within the dataset `normalized_df`, providing insights into the underlying structure and patterns of the data."
   ],
   "metadata": {
    "collapsed": false
   },
   "id": "473c497e2c21002d"
  },
  {
   "cell_type": "code",
   "outputs": [],
   "source": [
    "from sklearn.cluster import Birch\n",
    "\n",
    "# Assuming normalized_df is your DataFrame with the data\n",
    "\n",
    "# Perform BIRCH clustering\n",
    "birch = Birch(threshold=0.75, n_clusters=None)  # You can adjust the threshold and other parameters\n",
    "cluster_labels = birch.fit_predict(normalized_df)\n",
    "\n",
    "# Now you have the cluster labels in the `cluster_labels` variable"
   ],
   "metadata": {
    "collapsed": false,
    "ExecuteTime": {
     "end_time": "2024-02-01T09:31:51.523875300Z",
     "start_time": "2024-02-01T09:31:46.979481100Z"
    }
   },
   "id": "3ae618f5a5c75308",
   "execution_count": 28
  },
  {
   "cell_type": "markdown",
   "source": [
    "## Analyzing Cluster Labels\n",
    "\n",
    "This code snippet analyzes cluster labels obtained from a clustering algorithm applied to data.\n",
    "\n",
    "### Code Explanation\n",
    "\n",
    "- The code imports the NumPy library as `np`, which provides functions for numerical computing.\n",
    "- The array `cluster_labels` is assumed to contain cluster labels obtained from a clustering algorithm.\n",
    "- `np.unique()` with the parameter `return_counts=True` is used to obtain unique cluster labels and their corresponding counts.\n",
    "- The number of unique cluster labels is determined by calculating the length of the array `unique_labels`.\n",
    "- The number of occurrences of each unique cluster label is printed using a loop that iterates over `unique_labels` and `counts`.\n",
    "\n",
    "### Purpose\n",
    "\n",
    "- Analyzing cluster labels helps in understanding the distribution of data points across different clusters.\n",
    "- Knowing the number of unique clusters and the distribution of data points within each cluster provides insights into the clustering results."
   ],
   "metadata": {
    "collapsed": false
   },
   "id": "b492cb0e46d2bcf4"
  },
  {
   "cell_type": "code",
   "outputs": [
    {
     "name": "stdout",
     "output_type": "stream",
     "text": [
      "Number of unique cluster labels: 4\n",
      "Cluster label 0: Count = 93846\n",
      "Cluster label 1: Count = 111621\n",
      "Cluster label 2: Count = 36700\n",
      "Cluster label 3: Count = 56007\n"
     ]
    }
   ],
   "source": [
    "import numpy as np\n",
    "\n",
    "# Assuming cluster_labels is your array containing cluster labels\n",
    "# You can use np.unique() with return_counts=True to get the unique cluster labels and their counts\n",
    "unique_labels, counts = np.unique(cluster_labels, return_counts=True)\n",
    "\n",
    "# Get the number of unique cluster labels\n",
    "num_clusters = len(unique_labels)\n",
    "\n",
    "print(\"Number of unique cluster labels:\", num_clusters)\n",
    "\n",
    "# Print the number of occurrences of each unique cluster label\n",
    "for label, count in zip(unique_labels, counts):\n",
    "    print(f\"Cluster label {label}: Count = {count}\")"
   ],
   "metadata": {
    "collapsed": false,
    "ExecuteTime": {
     "end_time": "2024-02-01T09:31:51.547649600Z",
     "start_time": "2024-02-01T09:31:51.530873700Z"
    }
   },
   "id": "affec4e71fc6d893",
   "execution_count": 29
  },
  {
   "cell_type": "markdown",
   "source": [
    "## Calculating Silhouette Score\n",
    "\n",
    "This code snippet calculates the silhouette score, a metric used to evaluate the quality of clusters obtained from a clustering algorithm.\n",
    "\n",
    "### Code Explanation\n",
    "\n",
    "- The code imports the `silhouette_score` function from the scikit-learn library, which is used to compute the silhouette score.\n",
    "- It assumes that `normalized_df` is the DataFrame containing the data and `cluster_labels` are the labels assigned by a clustering algorithm, such as BIRCH.\n",
    "- The silhouette score is computed using the `silhouette_score` function, which takes the data and the cluster labels as input.\n",
    "- The silhouette score represents the average silhouette coefficient over all samples, where a higher score indicates better-defined clusters and a score close to 1 suggests dense and well-separated clusters.\n",
    "\n",
    "### Purpose\n",
    "\n",
    "- The silhouette score provides a quantitative measure of the quality of clustering results.\n",
    "- It helps in assessing the appropriateness of the number of clusters chosen and the effectiveness of the clustering algorithm in partitioning the data into meaningful clusters.\n"
   ],
   "metadata": {
    "collapsed": false
   },
   "id": "19b0d3a6d05c8075"
  },
  {
   "cell_type": "code",
   "outputs": [
    {
     "name": "stdout",
     "output_type": "stream",
     "text": [
      "Silhouette Score: 0.3164439007050321\n"
     ]
    }
   ],
   "source": [
    "from sklearn.metrics import silhouette_score\n",
    "\n",
    "# Assuming normalized_df is your DataFrame with the data\n",
    "# Assuming cluster_labels are the labels assigned by BIRCH clustering\n",
    "\n",
    "# Calculate the silhouette score\n",
    "silhouette_avg = silhouette_score(normalized_df, cluster_labels)\n",
    "\n",
    "print(\"Silhouette Score:\", silhouette_avg)"
   ],
   "metadata": {
    "collapsed": false,
    "ExecuteTime": {
     "end_time": "2024-02-01T09:49:25.542755200Z",
     "start_time": "2024-02-01T09:31:51.546651100Z"
    }
   },
   "id": "9f77da98dbb7e09b",
   "execution_count": 30
  },
  {
   "cell_type": "markdown",
   "source": [
    "## Computing Feature Variances Within Clusters\n",
    "\n",
    "This code snippet computes the variance of each feature within each cluster and then calculates the mean variance of each feature across clusters. Finally, it sorts the features based on their mean variances.\n",
    "\n",
    "### Code Explanation\n",
    "\n",
    "- The code imports the NumPy library as `np`, which provides functions for numerical computing.\n",
    "- It computes the variance of each feature within each cluster by iterating over unique cluster labels obtained from `cluster_labels`.\n",
    "- For each cluster label, it selects the corresponding data points from `normalized_df`, computes the variance along each feature axis, and stores the variances in `cluster_variances`.\n",
    "- The mean variance of each feature across clusters is computed by taking the mean of variances across clusters for each feature.\n",
    "- Features are sorted based on their mean variances in descending order using `np.argsort()`.\n",
    "- The sorted feature names are printed to display them in order of mean variance.\n",
    "\n",
    "### Purpose\n",
    "\n",
    "- Computing feature variances within clusters helps in understanding how the variance of features varies across different clusters.\n",
    "- Identifying features with high variances can provide insights into the discriminative power of those features in characterizing different clusters."
   ],
   "metadata": {
    "collapsed": false
   },
   "id": "9c1bd9426b5d2036"
  },
  {
   "cell_type": "code",
   "outputs": [
    {
     "name": "stdout",
     "output_type": "stream",
     "text": [
      "Sorted features based on mean variance:\n",
      "FEATURE71\n",
      "FEATURE45\n",
      "FEATURE39\n",
      "FEATURE50\n",
      "FEATURE37\n",
      "FEATURE64\n",
      "FEATURE72\n",
      "FEATURE66\n",
      "FEATURE51\n",
      "FEATURE19\n",
      "FEATURE38\n",
      "Class Label\n",
      "FEATURE80\n",
      "FEATURE75\n",
      "FEATURE4\n",
      "FEATURE81\n",
      "FEATURE12\n",
      "FEATURE8\n",
      "FEATURE7\n",
      "FEATURE18\n",
      "FEATURE78\n",
      "FEATURE16\n",
      "FEATURE26\n",
      "FEATURE62\n",
      "FEATURE23\n",
      "FEATURE36\n",
      "FEATURE31\n",
      "FEATURE49\n",
      "FEATURE9\n",
      "FEATURE63\n",
      "FEATURE24\n",
      "FEATURE65\n",
      "FEATURE48\n",
      "FEATURE30\n",
      "FEATURE11\n",
      "FEATURE29\n",
      "FEATURE28\n",
      "FEATURE32\n",
      "FEATURE20\n",
      "FEATURE42\n",
      "FEATURE70\n",
      "FEATURE79\n",
      "FEATURE6\n",
      "FEATURE34\n",
      "FEATURE40\n",
      "FEATURE14\n",
      "FEATURE73\n",
      "FEATURE41\n",
      "FEATURE43\n",
      "FEATURE74\n",
      "FEATURE46\n",
      "FEATURE10\n",
      "FEATURE44\n",
      "FEATURE76\n",
      "FEATURE61\n",
      "FEATURE59\n",
      "FEATURE67\n",
      "FEATURE68\n",
      "FEATURE2\n",
      "FEATURE56\n",
      "FEATURE15\n",
      "FEATURE35\n",
      "FEATURE77\n",
      "FEATURE52\n",
      "FEATURE1\n",
      "FEATURE5\n",
      "FEATURE53\n",
      "FEATURE60\n",
      "FEATURE33\n",
      "FEATURE55\n",
      "FEATURE3\n",
      "FEATURE47\n",
      "FEATURE22\n",
      "FEATURE21\n",
      "FEATURE58\n",
      "FEATURE13\n",
      "FEATURE57\n",
      "FEATURE25\n",
      "FEATURE54\n",
      "FEATURE17\n",
      "FEATURE27\n",
      "FEATURE69\n"
     ]
    }
   ],
   "source": [
    "import numpy as np\n",
    "\n",
    "# Compute variance of each feature within each cluster\n",
    "cluster_variances = {}\n",
    "for cluster_label in np.unique(cluster_labels):\n",
    "    cluster_mask = (cluster_labels == cluster_label)\n",
    "    cluster_data = normalized_df[cluster_mask]\n",
    "    variances = np.var(cluster_data, axis=0)\n",
    "    cluster_variances[cluster_label] = variances\n",
    "\n",
    "# Compute mean variance of each feature across clusters\n",
    "mean_variances = np.mean(np.array(list(cluster_variances.values())), axis=0)\n",
    "\n",
    "# Sort features based on mean variance\n",
    "sorted_features_indices = np.argsort(mean_variances)[::-1]\n",
    "sorted_features = normalized_df.columns[sorted_features_indices]\n",
    "\n",
    "print(\"Sorted features based on mean variance:\")\n",
    "for feature in sorted_features:\n",
    "    print(feature)"
   ],
   "metadata": {
    "collapsed": false,
    "ExecuteTime": {
     "end_time": "2024-02-01T09:49:26.080457300Z",
     "start_time": "2024-02-01T09:49:25.548767300Z"
    }
   },
   "id": "93e957f6957cf76f",
   "execution_count": 31
  },
  {
   "cell_type": "markdown",
   "source": [
    "# Part 5&6"
   ],
   "metadata": {
    "collapsed": false
   },
   "id": "4bb54a37f350ddb3"
  },
  {
   "cell_type": "markdown",
   "source": [
    "## Random Forest Classifier Cross-Validation and Evaluation\n",
    "\n",
    "This code snippet performs cross-validation using a Random Forest classifier to evaluate the classification performance on a dataset.\n",
    "\n",
    "### Code Explanation\n",
    "\n",
    "- The code imports necessary modules from scikit-learn and pandas for data manipulation, model selection, and evaluation.\n",
    "- Assuming a DataFrame `normalized_df` is already loaded, it splits the data into features `X` and labels `y`.\n",
    "- Features `X` are obtained by dropping the 'Class Label' column from the DataFrame, while labels `y` are extracted from the 'Class Label' column.\n",
    "- A Random Forest classifier `rf_classifier` is initialized with 100 decision trees and a fixed random state for reproducibility.\n",
    "- 10-fold cross-validation is performed using the `cross_val_score()` function from scikit-learn. It evaluates the classifier's performance by splitting the data into 10 subsets and training the model 10 times, each time using a different subset as the test set.\n",
    "- The accuracy scores for each fold are stored in the `cv_scores` array.\n",
    "- Finally, the accuracy scores for each fold are printed to evaluate the performance of the Random Forest classifier.\n",
    "\n",
    "### Purpose\n",
    "\n",
    "- Cross-validation is a resampling technique used to assess the generalization performance of a machine learning model.\n",
    "- The Random Forest classifier is evaluated using cross-validation to estimate its accuracy and assess its robustness to variations in the training and test data splits."
   ],
   "metadata": {
    "collapsed": false
   },
   "id": "ddf63dac2bfabcfd"
  },
  {
   "cell_type": "code",
   "outputs": [
    {
     "name": "stdout",
     "output_type": "stream",
     "text": [
      "Cross-validation scores: [0.99969817 0.99949695 0.99953048 0.99953048 0.99949693 0.99966462\n",
      " 0.99963108 0.99963108 0.99939632 0.99966462]\n"
     ]
    }
   ],
   "source": [
    "import pandas as pd\n",
    "from sklearn.model_selection import cross_val_score\n",
    "from sklearn.ensemble import RandomForestClassifier\n",
    "\n",
    "# Assuming you already have your dataframe loaded, let's call it df\n",
    "\n",
    "# Split the dataframe into features (X) and labels (y)\n",
    "X = normalized_df.drop(columns=['Class Label'])\n",
    "y = normalized_df['Class Label']\n",
    "\n",
    "# Initialize the Random Forest classifier\n",
    "rf_classifier = RandomForestClassifier(n_estimators=100, random_state=42)\n",
    "\n",
    "# Perform 10-fold cross-validation\n",
    "cv_scores = cross_val_score(rf_classifier, X, y, cv=10)\n",
    "\n",
    "# Print the accuracy scores for each fold\n",
    "print(\"Cross-validation scores:\", cv_scores)"
   ],
   "metadata": {
    "collapsed": false,
    "ExecuteTime": {
     "end_time": "2024-02-01T09:56:35.730343400Z",
     "start_time": "2024-02-01T09:49:26.080457300Z"
    }
   },
   "id": "fe07f59286198176",
   "execution_count": 32
  },
  {
   "cell_type": "markdown",
   "source": [],
   "metadata": {
    "collapsed": false
   },
   "id": "b9f6fda5f9e85a99"
  },
  {
   "cell_type": "markdown",
   "source": [
    "## Training Random Forest Classifier and Extracting Feature Importances\n",
    "\n",
    "This code snippet trains a Random Forest classifier (`rf_classifier`) using features (`X`) and their corresponding labels (`y`). After training, it extracts feature importances and organizes them into a DataFrame for analysis.\n",
    "\n",
    "### Purpose\n",
    "\n",
    "- The Random Forest classifier is trained to learn patterns and relationships between features and labels in the dataset.\n",
    "- Feature importances are extracted to identify which features contribute most significantly to the classification process.\n",
    "\n",
    "### Key Steps\n",
    "\n",
    "- The Random Forest classifier is trained using the `fit()` method with features (`X`) and labels (`y`).\n",
    "- Feature importances are obtained using the `feature_importances_` attribute of the trained classifier.\n",
    "- A DataFrame (`feature_importance_df`) is created to organize feature names and their corresponding importances.\n",
    "- The DataFrame is sorted based on feature importance in descending order to identify the most influential features.\n",
    "\n",
    "### Note\n",
    "\n",
    "- Feature importances help in feature selection, dimensionality reduction, and understanding the underlying data patterns.\n",
    "- Interpretation of feature importances can guide feature engineering efforts and improve model performance.\n",
    "- Further analysis, such as visualization or selection of top features, can be performed based on the feature importances extracted."
   ],
   "metadata": {
    "collapsed": false
   },
   "id": "896de065fbab98c2"
  },
  {
   "cell_type": "code",
   "outputs": [],
   "source": [
    "# Train a Random Forest classifier\n",
    "rf_classifier.fit(X, y)\n",
    "\n",
    "# Get feature importances\n",
    "feature_importances = rf_classifier.feature_importances_\n",
    "\n",
    "# Create a DataFrame to organize feature names and their importances\n",
    "feature_importance_df = pd.DataFrame({'Feature': X.columns, 'Importance': feature_importances})\n",
    "\n",
    "# Sort the DataFrame by feature importance in descending order\n",
    "feature_importance_df = feature_importance_df.sort_values(by='Importance', ascending=False)"
   ],
   "metadata": {
    "collapsed": false,
    "ExecuteTime": {
     "end_time": "2024-02-01T10:50:54.895759600Z",
     "start_time": "2024-02-01T10:50:00.797697600Z"
    }
   },
   "id": "1bab5b1d6495083f",
   "execution_count": 54
  },
  {
   "cell_type": "markdown",
   "source": [
    "## Print the top N most important features"
   ],
   "metadata": {
    "collapsed": false
   },
   "id": "1b54a25703fcb0db"
  },
  {
   "cell_type": "code",
   "outputs": [
    {
     "name": "stdout",
     "output_type": "stream",
     "text": [
      "Top 10 most important features:\n",
      "      Feature  Importance\n",
      "46  FEATURE47    0.092101\n",
      "0    FEATURE1    0.087457\n",
      "24  FEATURE25    0.055171\n",
      "30  FEATURE31    0.053284\n",
      "26  FEATURE27    0.047985\n",
      "25  FEATURE26    0.047076\n",
      "28  FEATURE29    0.040822\n",
      "29  FEATURE30    0.039546\n",
      "31  FEATURE32    0.037765\n",
      "23  FEATURE24    0.025280\n"
     ]
    }
   ],
   "source": [
    "# Print the top N most important features\n",
    "N = 10  # Change N to the desired number of top features\n",
    "top_features = feature_importance_df.head(N)\n",
    "print(\"Top\", N, \"most important features:\")\n",
    "print(top_features)"
   ],
   "metadata": {
    "collapsed": false,
    "ExecuteTime": {
     "end_time": "2024-02-01T10:51:09.240560500Z",
     "start_time": "2024-02-01T10:51:09.156537100Z"
    }
   },
   "id": "107083e32f03d2a5",
   "execution_count": 55
  },
  {
   "cell_type": "markdown",
   "source": [
    "## Computing AUC-ROC Score using Cross-Validation Predictions\n",
    "\n",
    "This code snippet computes the Area Under the Receiver Operating Characteristic Curve (AUC-ROC) score using cross-validation predictions from a Random Forest classifier.\n",
    "\n",
    "### Purpose\n",
    "\n",
    "- The AUC-ROC score quantifies the performance of a binary classification model across different thresholds by measuring the area under the ROC curve.\n",
    "- It provides a single scalar value indicating the classifier's ability to distinguish between positive and negative instances.\n",
    "\n",
    "### Key Steps\n",
    "\n",
    "- 10-fold cross-validation predictions are performed using the `cross_val_predict()` function with the Random Forest classifier (`rf_classifier`), features (`X`), and labels (`y`).\n",
    "- Predicted probabilities for the positive class are extracted using the `predict_proba` method.\n",
    "- The AUC-ROC score is computed using the `roc_auc_score()` function from scikit-learn, comparing the true labels (`y`) with the predicted probabilities for the positive class (`y_pred_prob_positive`).\n",
    "\n",
    "### Note\n",
    "\n",
    "- A higher AUC-ROC score indicates better classifier performance in distinguishing between positive and negative instances.\n",
    "- AUC-ROC score is particularly useful for imbalanced datasets and provides insights into the classifier's overall discriminative ability.\n",
    "- Interpretation of the AUC-ROC score helps in model selection, comparison, and evaluation across different classification tasks."
   ],
   "metadata": {
    "collapsed": false
   },
   "id": "3bd36a1f7bcb62de"
  },
  {
   "cell_type": "code",
   "outputs": [
    {
     "name": "stdout",
     "output_type": "stream",
     "text": [
      "AUC-ROC Score: 0.9963843931535665\n"
     ]
    }
   ],
   "source": [
    "from sklearn.metrics import roc_auc_score\n",
    "from sklearn.model_selection import cross_val_predict\n",
    "\n",
    "# Perform 10-fold cross-validation and obtain predicted probabilities\n",
    "y_pred_prob_cv = cross_val_predict(rf_classifier, X, y, cv=10, method='predict_proba')\n",
    "\n",
    "# Flatten the predicted probabilities to get probabilities for the positive class only\n",
    "y_pred_prob_positive = y_pred_prob_cv[:, 1]\n",
    "\n",
    "# Compute the AUC-ROC score\n",
    "auc_roc = roc_auc_score(y, y_pred_prob_positive)\n",
    "\n",
    "print(\"AUC-ROC Score:\", auc_roc)"
   ],
   "metadata": {
    "collapsed": false,
    "ExecuteTime": {
     "end_time": "2024-02-01T10:17:46.525173100Z",
     "start_time": "2024-02-01T10:10:33.601653300Z"
    }
   },
   "id": "3f8ebaf4cff1da0c",
   "execution_count": 45
  },
  {
   "cell_type": "markdown",
   "source": [
    "## Confusion Matrix Visualization using Cross-Validation Predictions\n",
    "\n",
    "This code snippet generates and visualizes the confusion matrix using predictions obtained from 10-fold cross-validation with a Random Forest classifier.\n",
    "\n",
    "### Code Explanation\n",
    "\n",
    "- The code imports necessary modules from scikit-learn for cross-validation and confusion matrix computation, as well as Matplotlib and Seaborn for visualization.\n",
    "- Cross-validation predictions are obtained using the `cross_val_predict()` function from scikit-learn. It performs 10-fold cross-validation and returns the predicted class labels for each sample.\n",
    "- Class labels are defined by concatenating the true labels `y` and predicted labels `y_pred_cv`. The unique class labels are obtained and reversed to ensure consistent ordering in the confusion matrix.\n",
    "- The confusion matrix is computed using the `confusion_matrix()` function from scikit-learn, which compares the true labels `y` with the cross-validated predicted labels `y_pred_cv`.\n",
    "- The confusion matrix is visualized using a heatmap generated by Matplotlib and Seaborn. Each cell in the heatmap represents the number of samples that were predicted to belong to a certain class compared to the true class labels.\n",
    "- The heatmap is annotated with the counts in each cell, and class labels are displayed on the x-axis and y-axis.\n",
    "\n",
    "### Purpose\n",
    "\n",
    "- The confusion matrix provides valuable insights into the performance of a classification model by showing the distribution of predicted and true class labels.\n",
    "- Visualizing the confusion matrix helps in understanding where the model makes errors, such as misclassifications or confusion between specific classes."
   ],
   "metadata": {
    "collapsed": false
   },
   "id": "4e74c2a8e39f8091"
  },
  {
   "cell_type": "code",
   "outputs": [
    {
     "data": {
      "text/plain": "<Figure size 800x600 with 1 Axes>",
      "image/png": "[encoded data removed]"
     },
     "metadata": {},
     "output_type": "display_data"
    }
   ],
   "source": [
    "from sklearn.model_selection import cross_val_predict\n",
    "from sklearn.metrics import confusion_matrix\n",
    "\n",
    "# Perform 10-fold cross-validation and obtain predictions\n",
    "y_pred_cv = cross_val_predict(rf_classifier, X, y, cv=10)\n",
    "\n",
    "# Define class labels\n",
    "classes = np.unique(np.concatenate((y, y_pred_cv)))\n",
    "classes = classes[::-1]  # Reverse the order of class labels\n",
    "\n",
    "# Generate the confusion matrix\n",
    "conf_matrix = confusion_matrix(y, y_pred_cv)\n",
    "\n",
    "# Display the confusion matrix using a heatmap\n",
    "plt.figure(figsize=(8, 6))\n",
    "sns.heatmap(conf_matrix, annot=True, fmt=\"d\", cmap=\"Blues\", cbar=False,\n",
    "            xticklabels=classes, yticklabels=classes)\n",
    "plt.xlabel('Predicted labels')\n",
    "plt.ylabel('True labels')\n",
    "plt.title('Confusion Matrix (10-fold Cross-Validation)')\n",
    "plt.show()"
   ],
   "metadata": {
    "collapsed": false,
    "ExecuteTime": {
     "end_time": "2024-02-01T10:04:02.029599200Z",
     "start_time": "2024-02-01T09:56:35.733420Z"
    }
   },
   "id": "b1b6dc1d941c1170",
   "execution_count": 33
  },
  {
   "cell_type": "markdown",
   "source": [
    "## Extracting True Positives, True Negatives, False Positives, and False Negatives from Confusion Matrix\n",
    "\n",
    "This code snippet extracts the True Positives (TP), True Negatives (TN), False Positives (FP), and False Negatives (FN) from a confusion matrix.\n",
    "\n",
    "### Code Explanation\n",
    "\n",
    "- The code assumes that `conf_matrix` is a confusion matrix obtained from a classification model's predictions.\n",
    "- It extracts the elements from the confusion matrix corresponding to TP, TN, FP, and FN.\n",
    "  - TP: True Positives, the number of instances correctly predicted as positive.\n",
    "  - TN: True Negatives, the number of instances correctly predicted as negative.\n",
    "  - FP: False Positives, the number of instances incorrectly predicted as positive.\n",
    "  - FN: False Negatives, the number of instances incorrectly predicted as negative.\n",
    "\n",
    "### Purpose\n",
    "\n",
    "- Extracting TP, TN, FP, and FN from the confusion matrix allows for a detailed analysis of the classification model's performance.\n",
    "- These metrics are fundamental in evaluating the effectiveness of a classifier, especially in binary classification tasks."
   ],
   "metadata": {
    "collapsed": false
   },
   "id": "a4d24e994efc3586"
  },
  {
   "cell_type": "code",
   "outputs": [],
   "source": [
    "# Assuming conf_matrix is your confusion matrix\n",
    "\n",
    "# Extract TP, TN, FP, FN\n",
    "RF_TP = conf_matrix[0, 0]  # True Positives\n",
    "RF_TN = conf_matrix[1, 1]  # True Negatives\n",
    "RF_FP = conf_matrix[1, 0]  # False Positives\n",
    "RF_FN = conf_matrix[0, 1]  # False Negatives"
   ],
   "metadata": {
    "collapsed": false,
    "ExecuteTime": {
     "end_time": "2024-02-01T10:04:02.037847100Z",
     "start_time": "2024-02-01T10:04:02.031599700Z"
    }
   },
   "id": "a00c2cd7ad0a555a",
   "execution_count": 34
  },
  {
   "cell_type": "markdown",
   "source": [
    "## Random Forest Precision Calculation"
   ],
   "metadata": {
    "collapsed": false
   },
   "id": "ef427febdef19352"
  },
  {
   "cell_type": "code",
   "outputs": [
    {
     "name": "stdout",
     "output_type": "stream",
     "text": [
      "Precision: 0.9997173858188241\n"
     ]
    }
   ],
   "source": [
    "RF_Precision = RF_TP / (RF_TP + RF_FP)\n",
    "print(f'Precision: {RF_Precision}')"
   ],
   "metadata": {
    "collapsed": false,
    "ExecuteTime": {
     "end_time": "2024-02-01T10:04:02.045899Z",
     "start_time": "2024-02-01T10:04:02.037847100Z"
    }
   },
   "id": "76252fc2498c8cc9",
   "execution_count": 35
  },
  {
   "cell_type": "markdown",
   "source": [
    "## Random Forest Recall Calculation"
   ],
   "metadata": {
    "collapsed": false
   },
   "id": "a4e3b0afe1cd8bbf"
  },
  {
   "cell_type": "code",
   "outputs": [
    {
     "name": "stdout",
     "output_type": "stream",
     "text": [
      "Recall: 0.9998553084957468\n"
     ]
    }
   ],
   "source": [
    "RF_Recall = RF_TP / (RF_TP + RF_FN)\n",
    "print(f'Recall: {RF_Recall}')"
   ],
   "metadata": {
    "collapsed": false,
    "ExecuteTime": {
     "end_time": "2024-02-01T10:04:02.056703500Z",
     "start_time": "2024-02-01T10:04:02.047878600Z"
    }
   },
   "id": "9e07c4c827a8e1",
   "execution_count": 36
  },
  {
   "cell_type": "markdown",
   "source": [
    "## Random Forest Accuracy Calculation"
   ],
   "metadata": {
    "collapsed": false
   },
   "id": "f519d0c82ab4086b"
  },
  {
   "cell_type": "code",
   "outputs": [
    {
     "name": "stdout",
     "output_type": "stream",
     "text": [
      "Accuracy: 0.9995740741982869\n"
     ]
    }
   ],
   "source": [
    "RF_Accuracy = (RF_TP + RF_TN) / (RF_TP + RF_TN + RF_FN + RF_FP)\n",
    "print(f'Accuracy: {RF_Accuracy}')"
   ],
   "metadata": {
    "collapsed": false,
    "ExecuteTime": {
     "end_time": "2024-02-01T10:04:02.252649700Z",
     "start_time": "2024-02-01T10:04:02.054063500Z"
    }
   },
   "id": "eff603e830a3b0dc",
   "execution_count": 37
  },
  {
   "cell_type": "markdown",
   "source": [
    "## Random Forest F1 Score Calculation"
   ],
   "metadata": {
    "collapsed": false
   },
   "id": "7b1960b760664dbf"
  },
  {
   "cell_type": "code",
   "outputs": [
    {
     "name": "stdout",
     "output_type": "stream",
     "text": [
      "F1: 0.9997863424006029\n"
     ]
    }
   ],
   "source": [
    "RF_F1 = (2 * RF_Precision * RF_Recall) / (RF_Precision + RF_Recall)\n",
    "print(f'F1: {RF_F1}')"
   ],
   "metadata": {
    "collapsed": false,
    "ExecuteTime": {
     "end_time": "2024-02-01T10:04:02.255699500Z",
     "start_time": "2024-02-01T10:04:02.062670100Z"
    }
   },
   "id": "e2c457316acd5201",
   "execution_count": 38
  },
  {
   "cell_type": "markdown",
   "source": [
    "## Calculating AUC-ROC Score using Cross-Validation Predictions\n",
    "\n",
    "This code snippet calculates the Area Under the Receiver Operating Characteristic Curve (AUC-ROC) score using cross-validation predictions obtained from a Random Forest classifier.\n",
    "\n",
    "### Purpose\n",
    "\n",
    "- The AUC-ROC score is a key metric for evaluating the performance of binary classification models.\n",
    "- It measures the ability of a classifier to distinguish between positive and negative instances across various thresholds.\n",
    "\n",
    "### Key Components\n",
    "\n",
    "- Cross-validation predictions are performed using the `cross_val_predict()` function with a Random Forest classifier (`rf_classifier`), features (`X`), and labels (`y`) as input.\n",
    "- Predicted probabilities for the positive class are extracted using the `predict_proba()` method.\n",
    "- The AUC-ROC score is computed using the `roc_auc_score()` function from scikit-learn, comparing the true labels (`y`) with the predicted probabilities for the positive class (`y_pred_prob_positive`).\n",
    "\n",
    "### Note\n",
    "\n",
    "- A higher AUC-ROC score indicates better discriminative performance of the classifier.\n",
    "- Cross-validation helps provide robust estimates of model performance across different subsets of the data.\n",
    "- Interpretation of the AUC-ROC score aids in model evaluation, selection, and comparison for binary classification tasks."
   ],
   "metadata": {
    "collapsed": false
   },
   "id": "db55b2ca2cd57fe0"
  },
  {
   "cell_type": "code",
   "outputs": [
    {
     "name": "stdout",
     "output_type": "stream",
     "text": [
      "AUC-ROC Score: 0.9963843931535665\n"
     ]
    }
   ],
   "source": [
    "from sklearn.metrics import roc_auc_score\n",
    "\n",
    "# Calculate the AUC-ROC score\n",
    "y_pred_prob_cv = cross_val_predict(rf_classifier, X, y, cv=10, method='predict_proba')\n",
    "y_pred_prob_positive = y_pred_prob_cv[:, 1]\n",
    "rf_auc_roc = roc_auc_score(y, y_pred_prob_positive)\n",
    "\n",
    "print(\"AUC-ROC Score:\", rf_auc_roc)"
   ],
   "metadata": {
    "collapsed": false,
    "ExecuteTime": {
     "end_time": "2024-02-01T10:34:05.488014300Z",
     "start_time": "2024-02-01T10:24:35.284512Z"
    }
   },
   "id": "d5b68035f7e51a60",
   "execution_count": 47
  },
  {
   "cell_type": "markdown",
   "source": [
    "## Visualizing Confusion Matrix for SVM with RBF Kernel\n",
    "\n",
    "This code snippet performs 10-fold cross-validation using a Support Vector Machine (SVM) classifier with the Radial Basis Function (RBF) kernel and visualizes the resulting confusion matrix.\n",
    "\n",
    "### Purpose\n",
    "\n",
    "- The code aims to evaluate the performance of the SVM classifier with the RBF kernel by generating a confusion matrix.\n",
    "- Visualizing the confusion matrix helps in understanding the classifier's ability to correctly classify instances across different classes.\n",
    "\n",
    "### Key Components\n",
    "\n",
    "- The SVM classifier with the RBF kernel is initialized using the `SVC` class from scikit-learn.\n",
    "- Cross-validation predictions are obtained using the `cross_val_predict()` function, providing insights into the classifier's performance on unseen data.\n",
    "- The confusion matrix is computed using the `confusion_matrix()` function, comparing the true labels with the cross-validated predicted labels.\n",
    "- The confusion matrix is visualized using a heatmap created with Matplotlib and Seaborn, annotating each cell with the count of instances."
   ],
   "metadata": {
    "collapsed": false
   },
   "id": "2776e70764b78fed"
  },
  {
   "cell_type": "code",
   "outputs": [
    {
     "data": {
      "text/plain": "<Figure size 800x600 with 1 Axes>",
      "image/png": "[encoded data removed]"
     },
     "metadata": {},
     "output_type": "display_data"
    }
   ],
   "source": [
    "from sklearn.model_selection import cross_val_predict\n",
    "from sklearn.metrics import confusion_matrix\n",
    "import seaborn as sns\n",
    "import matplotlib.pyplot as plt\n",
    "import numpy as np\n",
    "from sklearn.svm import SVC\n",
    "\n",
    "# Assuming you already have your dataframe loaded, let's call it df\n",
    "\n",
    "# Split the dataframe into features (X) and labels (y)\n",
    "X = normalized_df.drop(columns=['Class Label'])\n",
    "y = normalized_df['Class Label']\n",
    "\n",
    "# Initialize the SVM classifier with RBF kernel\n",
    "svm_classifier_rbf = SVC(kernel='rbf', random_state=42)\n",
    "\n",
    "# Perform 10-fold cross-validation and obtain predictions\n",
    "y_pred_cv_svm_rbf = cross_val_predict(svm_classifier_rbf, X, y, cv=10)\n",
    "\n",
    "# Define class labels\n",
    "classes_svm_rbf = np.unique(np.concatenate((y, y_pred_cv_svm_rbf)))\n",
    "classes_svm_rbf = classes_svm_rbf[::-1]  # Reverse the order of class labels\n",
    "\n",
    "# Generate the confusion matrix\n",
    "conf_matrix_svm_rbf = confusion_matrix(y, y_pred_cv_svm_rbf)\n",
    "\n",
    "# Display the confusion matrix using a heatmap\n",
    "plt.figure(figsize=(8, 6))\n",
    "sns.heatmap(conf_matrix_svm_rbf, annot=True, fmt=\"d\", cmap=\"Blues\", cbar=False,\n",
    "            xticklabels=classes_svm_rbf, yticklabels=classes_svm_rbf)\n",
    "plt.xlabel('Predicted labels')\n",
    "plt.ylabel('True labels')\n",
    "plt.title('Confusion Matrix (SVM with RBF kernel - 10-fold Cross-Validation)')\n",
    "plt.show()"
   ],
   "metadata": {
    "collapsed": false,
    "ExecuteTime": {
     "end_time": "2024-02-01T10:10:33.556543200Z",
     "start_time": "2024-02-01T10:04:02.072511300Z"
    }
   },
   "id": "b30a3f616bb316f5",
   "execution_count": 39
  },
  {
   "cell_type": "markdown",
   "source": [
    "## Extracting Performance Metrics from Confusion Matrix for SVM with RBF Kernel\n",
    "\n",
    "This code snippet extracts True Positives (TP), True Negatives (TN), False Positives (FP), and False Negatives (FN) from the confusion matrix obtained during the evaluation of the SVM classifier with the Radial Basis Function (RBF) kernel.\n",
    "\n",
    "### Purpose\n",
    "\n",
    "- Extracting TP, TN, FP, and FN metrics from the confusion matrix allows for a detailed analysis of the SVM classifier's performance, particularly in binary classification tasks.\n",
    "- These metrics provide insights into the classifier's ability to correctly identify positive and negative instances and its effectiveness in minimizing misclassifications."
   ],
   "metadata": {
    "collapsed": false
   },
   "id": "48a176c6fe0a255c"
  },
  {
   "cell_type": "code",
   "outputs": [],
   "source": [
    "# Extract TP, TN, FP, FN\n",
    "SVM_TP = conf_matrix_svm_rbf[0, 0]  # True Positives\n",
    "SVM_TN = conf_matrix_svm_rbf[1, 1]  # True Negatives\n",
    "SVM_FP = conf_matrix_svm_rbf[1, 0]  # False Positives\n",
    "SVM_FN = conf_matrix_svm_rbf[0, 1]  # False Negatives"
   ],
   "metadata": {
    "collapsed": false,
    "ExecuteTime": {
     "end_time": "2024-02-01T10:10:33.590066700Z",
     "start_time": "2024-02-01T10:10:33.558514300Z"
    }
   },
   "id": "30a7edc1c77a4cf4",
   "execution_count": 40
  },
  {
   "cell_type": "markdown",
   "source": [
    "## Random Forest Precision Calculation"
   ],
   "metadata": {
    "collapsed": false
   },
   "id": "c2f03537e5643175"
  },
  {
   "cell_type": "code",
   "outputs": [
    {
     "name": "stdout",
     "output_type": "stream",
     "text": [
      "Precision: 0.9991021226224746\n"
     ]
    }
   ],
   "source": [
    "SVM_Precision = SVM_TP / (SVM_TP + SVM_FP)\n",
    "print(f'Precision: {SVM_Precision}')"
   ],
   "metadata": {
    "collapsed": false,
    "ExecuteTime": {
     "end_time": "2024-02-01T10:10:33.595115500Z",
     "start_time": "2024-02-01T10:10:33.564569400Z"
    }
   },
   "id": "b813e0e23e3c604d",
   "execution_count": 41
  },
  {
   "cell_type": "markdown",
   "source": [
    "## Random Forest Recall Calculation"
   ],
   "metadata": {
    "collapsed": false
   },
   "id": "742f3c9ae3d0aaef"
  },
  {
   "cell_type": "code",
   "outputs": [
    {
     "name": "stdout",
     "output_type": "stream",
     "text": [
      "Recall: 0.9997207117476041\n"
     ]
    }
   ],
   "source": [
    "SVM_Recall = SVM_TP / (SVM_TP + SVM_FN)\n",
    "print(f'Recall: {SVM_Recall}')"
   ],
   "metadata": {
    "collapsed": false,
    "ExecuteTime": {
     "end_time": "2024-02-01T10:10:33.615800400Z",
     "start_time": "2024-02-01T10:10:33.573993700Z"
    }
   },
   "id": "5a50a6caa9d0a690",
   "execution_count": 42
  },
  {
   "cell_type": "markdown",
   "source": [
    "## Random Forest Accuracy Calculation"
   ],
   "metadata": {
    "collapsed": false
   },
   "id": "df272474144a1341"
  },
  {
   "cell_type": "code",
   "outputs": [
    {
     "name": "stdout",
     "output_type": "stream",
     "text": [
      "Accuracy: 0.9988261887354364\n"
     ]
    }
   ],
   "source": [
    "SVM_Accuracy = (SVM_TP + SVM_TN) / (SVM_TP + SVM_TN + SVM_FN + SVM_FP)\n",
    "print(f'Accuracy: {SVM_Accuracy}')"
   ],
   "metadata": {
    "collapsed": false,
    "ExecuteTime": {
     "end_time": "2024-02-01T10:10:33.788482700Z",
     "start_time": "2024-02-01T10:10:33.580234Z"
    }
   },
   "id": "d88d74acde3b280",
   "execution_count": 43
  },
  {
   "cell_type": "markdown",
   "source": [
    "## Random Forest F1 Score Calculation"
   ],
   "metadata": {
    "collapsed": false
   },
   "id": "cb6977ff151f74e"
  },
  {
   "cell_type": "code",
   "outputs": [
    {
     "name": "stdout",
     "output_type": "stream",
     "text": [
      "F1: 0.999411321465574\n"
     ]
    }
   ],
   "source": [
    "SVM_F1 = (2 * SVM_Precision * SVM_Recall) / (SVM_Precision + SVM_Recall)\n",
    "print(f'F1: {SVM_F1}')"
   ],
   "metadata": {
    "collapsed": false,
    "ExecuteTime": {
     "end_time": "2024-02-01T10:10:33.831699300Z",
     "start_time": "2024-02-01T10:10:33.592596800Z"
    }
   },
   "id": "ce02cb4f65b7d555",
   "execution_count": 44
  },
  {
   "cell_type": "code",
   "outputs": [
    {
     "name": "stdout",
     "output_type": "stream",
     "text": [
      "AUC-ROC Score (SVM with RBF kernel): 0.9907708080454594\n"
     ]
    }
   ],
   "source": [
    "from sklearn.metrics import roc_auc_score\n",
    "\n",
    "# Calculate the AUC-ROC score for SVM with RBF kernel\n",
    "y_pred_prob_cv_svm_rbf = cross_val_predict(svm_classifier_rbf, X, y, cv=10, method='decision_function')\n",
    "svm_rbf_auc_roc = roc_auc_score(y, y_pred_prob_cv_svm_rbf)\n",
    "\n",
    "print(\"AUC-ROC Score (SVM with RBF kernel):\", svm_rbf_auc_roc)"
   ],
   "metadata": {
    "collapsed": false,
    "ExecuteTime": {
     "end_time": "2024-02-01T10:40:30.674505400Z",
     "start_time": "2024-02-01T10:34:05.470790500Z"
    }
   },
   "id": "4295ac22c6efa9b3",
   "execution_count": 48
  },
  {
   "cell_type": "code",
   "outputs": [],
   "source": [
    "# Suppose you have your data in a dictionary format\n",
    "data = {\n",
    "    'Algorithm': ['Algorithm1', 'Algorithm2', 'Algorithm3', 'Algorithm4', 'Algorithm5'],\n",
    "    'Accuracy': [pd.NA, pd.NA, pd.NA, RF_Accuracy, SVM_Accuracy],  # Example accuracies\n",
    "    'Precision': [pd.NA, pd.NA, pd.NA, RF_Precision, SVM_Precision],  # Example precision values, one is missing\n",
    "    'Recall': [pd.NA, pd.NA, pd.NA, RF_Recall, SVM_Recall],  # Example recall values, one is missing\n",
    "    'F1 Score': [pd.NA, pd.NA, pd.NA, RF_F1, SVM_F1],  # Example F1 score values, one is missing\n",
    "    'Silhouette Score': [c1_silhouette_avg, pd.NA, silhouette_avg, pd.NA, pd.NA],\n",
    "    'AUC-ROC': [pd.NA, pd.NA, pd.NA, rf_auc_roc, svm_rbf_auc_roc]\n",
    "}\n",
    "\n",
    "# Convert the dictionary to a DataFrame\n",
    "metrics_df = pd.DataFrame(data)\n",
    "\n",
    "# Define the file path where you want to save the CSV file\n",
    "file_path = \"metrics.csv\"\n",
    "\n",
    "# Fill NaN values with a placeholder (e.g., 'NA') before saving\n",
    "metrics_df.fillna('NA', inplace=True)\n",
    "\n",
    "# Store the DataFrame into a CSV file\n",
    "metrics_df.to_csv(file_path, index=False)  # Set index=False to avoid saving the index column"
   ],
   "metadata": {
    "collapsed": false,
    "ExecuteTime": {
     "end_time": "2024-02-01T10:42:45.419889200Z",
     "start_time": "2024-02-01T10:42:45.285800800Z"
    }
   },
   "id": "730b5385b7db45b6",
   "execution_count": 51
  },
  {
   "cell_type": "markdown",
   "source": [
    "# Part 7"
   ],
   "metadata": {
    "collapsed": false
   },
   "id": "9838be8314981649"
  },
  {
   "cell_type": "markdown",
   "source": [
    "## A)\n",
    "# Analysis of Feature Importance in Clustering and Supervised Learning Algorithms\n",
    "\n",
    "## Overview\n",
    "\n",
    "In this analysis, we investigated the feature importance across three clustering algorithms and two supervised learning algorithms. The goal was to understand the unique contributions of features in both unsupervised and supervised contexts and identify any commonalities or differences.\n",
    "\n",
    "## Feature Importance in Clustering Algorithms\n",
    "\n",
    "### K-means Clustering\n",
    "- Top 5 most important features in K-means clustering:\n",
    "    1. [FEATURE45]\n",
    "    2. [FEATURE64]\n",
    "    3. [FEATURE71]\n",
    "    4. [FEATURE50]\n",
    "    5. [FEATURE72]\n",
    "    6. [FEATURE37]\n",
    "\n",
    "### K-means Clustering with deviding data set into two parts\n",
    "- Top 5 most important features in DBSCAN clustering:\n",
    "    1. [FEATURE45]\n",
    "    2. [FEATURE39]\n",
    "    3. [FEATURE64]\n",
    "    4. [FEATURE72]\n",
    "    5. [FEATURE71]\n",
    "    6. [FEATURE37]\n",
    "\n",
    "### BIRCH\n",
    "- Top 5 most important features in Hierarchical clustering:\n",
    "    1. [FEATURE71]\n",
    "    2. [FEATURE45]\n",
    "    3. [FEATURE39]\n",
    "    4. [FEATURE50]\n",
    "    5. [FEATURE37]\n",
    "    6. [FEATURE64]\n",
    "\n",
    "## Feature Importance in Supervised Learning Algorithms\n",
    "\n",
    "### Random Forest Classifier\n",
    "- Top 5 most important features in Random Forest classifier:\n",
    "    1. [FEATURE47]\n",
    "    2. [FEATURE01]\n",
    "    3. [FEATURE25]\n",
    "    4. [FEATURE31]\n",
    "    5. [FEATURE27]\n",
    "    6. [FEATURE26]\n",
    "    \n",
    "## Comparison and Insights\n",
    "\n",
    "- Analysis of feature importance across clustering and supervised learning algorithms revealed distinct patterns.\n",
    "- Notably, there were no overlapping features between the supervised and unsupervised learning algorithms, suggesting unique contributions of features in each context.\n",
    "- Features identified as important in clustering algorithms may not necessarily align with those in supervised learning, highlighting the different goals and mechanisms of the algorithms.\n",
    "- Further investigation into feature importance can provide deeper insights into the underlying data structure and aid in feature selection and dimensionality reduction techniques.\n",
    "\n",
    "## Conclusion\n",
    "\n",
    "- Understanding feature importance is crucial for model interpretability, feature selection, and decision-making in data-driven tasks.\n",
    "- Analyzing feature importance across various algorithms can uncover valuable insights into the data and guide the selection of appropriate modeling techniques.\n",
    "- Continual exploration and refinement of feature importance metrics can enhance the performance and interpretability of machine learning models."
   ],
   "metadata": {
    "collapsed": false
   },
   "id": "9d87d3199658d8d9"
  },
  {
   "cell_type": "markdown",
   "source": [
    "## B)\n",
    "# Comparison of Supervised and Unsupervised Learning in Feature Classification\n",
    "\n",
    "## Context\n",
    "\n",
    "In our analysis, we encountered a dataset with only two labels, which were not well-distributed. One label was significantly more prevalent, approximately 300 times more frequent than the other. Given this imbalance and the limited number of labels, we sought to compare the performance of supervised and unsupervised learning approaches in classifying the dataset.\n",
    "\n",
    "## Supervised Learning\n",
    "\n",
    "### Observations\n",
    "- Utilizing supervised learning methods, we trained classifiers to predict the labels based on the available features.\n",
    "- Despite the imbalance in the label distribution, the classifiers demonstrated reasonable predictive performance.\n",
    "- However, the classifiers predominantly identified and optimized for the majority label, potentially leading to biases and inaccuracies in the predictions.\n",
    "\n",
    "## Unsupervised Learning\n",
    "\n",
    "### Observations\n",
    "- Employing unsupervised learning techniques, we explored the inherent structure and patterns within the data without explicit labels.\n",
    "- Unsupervised learning algorithms, such as clustering, identified distinct clusters or groups within the data, irrespective of label imbalance.\n",
    "- The unsupervised approach resulted in the identification of four distinct clusters, indicating a more nuanced understanding of the data distribution.\n",
    "\n",
    "## Conclusion\n",
    "\n",
    "Based on our analysis of the dataset with imbalanced labels, unsupervised learning appears to offer advantages in classifying the data with greater precision and granularity. By uncovering hidden patterns and structures, unsupervised learning methods can provide insights into the underlying data distribution beyond the limitations imposed by label imbalances.\n",
    "\n",
    "### Recommendations\n",
    "- Further exploration and validation of the identified clusters through domain knowledge or additional analysis can enhance our understanding of the dataset.\n",
    "- Consideration of ensemble techniques or hybrid approaches that integrate both supervised and unsupervised learning methods may provide a comprehensive solution to address label imbalances and improve classification accuracy.\n",
    "- Continual evaluation and refinement of classification strategies are essential to adapt to evolving data dynamics and ensure reliable predictions in real-world applications."
   ],
   "metadata": {
    "collapsed": false
   },
   "id": "9badad49be6169ac"
  },
  {
   "cell_type": "markdown",
   "source": [
    "## C)\n",
    "Didn't notice any"
   ],
   "metadata": {
    "collapsed": false
   },
   "id": "22de903a9da99e6f"
  }
 ],
 "metadata": {
  "kernelspec": {
   "display_name": "Python 3",
   "language": "python",
   "name": "python3"
  },
  "language_info": {
   "codemirror_mode": {
    "name": "ipython",
    "version": 2
   },
   "file_extension": ".py",
   "mimetype": "text/x-python",
   "name": "python",
   "nbconvert_exporter": "python",
   "pygments_lexer": "ipython2",
   "version": "2.7.6"
  }
 },
 "nbformat": 4,
 "nbformat_minor": 5
}
